{
 "cells": [
  {
   "metadata": {},
   "cell_type": "markdown",
   "source": "## Initialization",
   "id": "90c7db4e01f7db3d"
  },
  {
   "metadata": {
    "ExecuteTime": {
     "end_time": "2024-08-08T09:10:31.886107Z",
     "start_time": "2024-08-08T09:10:31.730578Z"
    }
   },
   "cell_type": "code",
   "source": [
    "import keras\n",
    "import tensorflow as tf\n",
    "from keras.datasets import mnist\n",
    "import numpy as np\n",
    "import matplotlib.pyplot as plt\n",
    "from sklearn.datasets import load_breast_cancer\n",
    "from sklearn.model_selection import train_test_split\n",
    "from sklearn.preprocessing import MinMaxScaler\n",
    "from sklearn.metrics import confusion_matrix, classification_report"
   ],
   "id": "initial_id",
   "outputs": [],
   "execution_count": 45
  },
  {
   "metadata": {},
   "cell_type": "markdown",
   "source": "## Mnist data loading",
   "id": "a2d2777132e2216"
  },
  {
   "metadata": {
    "ExecuteTime": {
     "end_time": "2024-08-08T08:23:23.162175Z",
     "start_time": "2024-08-08T08:22:51.070134Z"
    }
   },
   "cell_type": "code",
   "source": "(X_train, y_train), (X_test, y_test) = mnist.load_data()",
   "id": "cbf7e2aee2be5ed2",
   "outputs": [
    {
     "name": "stdout",
     "output_type": "stream",
     "text": [
      "Downloading data from https://storage.googleapis.com/tensorflow/tf-keras-datasets/mnist.npz\n",
      "11490434/11490434 [==============================] - 29s 3us/step\n"
     ]
    }
   ],
   "execution_count": 6
  },
  {
   "metadata": {
    "ExecuteTime": {
     "end_time": "2024-08-08T08:24:01.423830Z",
     "start_time": "2024-08-08T08:24:01.404294Z"
    }
   },
   "cell_type": "code",
   "source": "X_train.max()",
   "id": "183bca13be752db4",
   "outputs": [
    {
     "data": {
      "text/plain": [
       "255"
      ]
     },
     "execution_count": 10,
     "metadata": {},
     "output_type": "execute_result"
    }
   ],
   "execution_count": 10
  },
  {
   "metadata": {
    "ExecuteTime": {
     "end_time": "2024-08-08T08:25:46.059625Z",
     "start_time": "2024-08-08T08:25:45.900873Z"
    }
   },
   "cell_type": "code",
   "source": [
    "X_train = X_train.astype('float32') / 255\n",
    "X_test = X_test.astype('float32') / 255"
   ],
   "id": "e095adb51fc3ce9e",
   "outputs": [],
   "execution_count": 11
  },
  {
   "metadata": {
    "ExecuteTime": {
     "end_time": "2024-08-08T08:25:51.490187Z",
     "start_time": "2024-08-08T08:25:51.472915Z"
    }
   },
   "cell_type": "code",
   "source": "X_train",
   "id": "67c220856b942774",
   "outputs": [
    {
     "data": {
      "text/plain": [
       "array([[[0., 0., 0., ..., 0., 0., 0.],\n",
       "        [0., 0., 0., ..., 0., 0., 0.],\n",
       "        [0., 0., 0., ..., 0., 0., 0.],\n",
       "        ...,\n",
       "        [0., 0., 0., ..., 0., 0., 0.],\n",
       "        [0., 0., 0., ..., 0., 0., 0.],\n",
       "        [0., 0., 0., ..., 0., 0., 0.]],\n",
       "\n",
       "       [[0., 0., 0., ..., 0., 0., 0.],\n",
       "        [0., 0., 0., ..., 0., 0., 0.],\n",
       "        [0., 0., 0., ..., 0., 0., 0.],\n",
       "        ...,\n",
       "        [0., 0., 0., ..., 0., 0., 0.],\n",
       "        [0., 0., 0., ..., 0., 0., 0.],\n",
       "        [0., 0., 0., ..., 0., 0., 0.]],\n",
       "\n",
       "       [[0., 0., 0., ..., 0., 0., 0.],\n",
       "        [0., 0., 0., ..., 0., 0., 0.],\n",
       "        [0., 0., 0., ..., 0., 0., 0.],\n",
       "        ...,\n",
       "        [0., 0., 0., ..., 0., 0., 0.],\n",
       "        [0., 0., 0., ..., 0., 0., 0.],\n",
       "        [0., 0., 0., ..., 0., 0., 0.]],\n",
       "\n",
       "       ...,\n",
       "\n",
       "       [[0., 0., 0., ..., 0., 0., 0.],\n",
       "        [0., 0., 0., ..., 0., 0., 0.],\n",
       "        [0., 0., 0., ..., 0., 0., 0.],\n",
       "        ...,\n",
       "        [0., 0., 0., ..., 0., 0., 0.],\n",
       "        [0., 0., 0., ..., 0., 0., 0.],\n",
       "        [0., 0., 0., ..., 0., 0., 0.]],\n",
       "\n",
       "       [[0., 0., 0., ..., 0., 0., 0.],\n",
       "        [0., 0., 0., ..., 0., 0., 0.],\n",
       "        [0., 0., 0., ..., 0., 0., 0.],\n",
       "        ...,\n",
       "        [0., 0., 0., ..., 0., 0., 0.],\n",
       "        [0., 0., 0., ..., 0., 0., 0.],\n",
       "        [0., 0., 0., ..., 0., 0., 0.]],\n",
       "\n",
       "       [[0., 0., 0., ..., 0., 0., 0.],\n",
       "        [0., 0., 0., ..., 0., 0., 0.],\n",
       "        [0., 0., 0., ..., 0., 0., 0.],\n",
       "        ...,\n",
       "        [0., 0., 0., ..., 0., 0., 0.],\n",
       "        [0., 0., 0., ..., 0., 0., 0.],\n",
       "        [0., 0., 0., ..., 0., 0., 0.]]], dtype=float32)"
      ]
     },
     "execution_count": 12,
     "metadata": {},
     "output_type": "execute_result"
    }
   ],
   "execution_count": 12
  },
  {
   "metadata": {
    "ExecuteTime": {
     "end_time": "2024-08-08T08:29:06.361922Z",
     "start_time": "2024-08-08T08:29:06.232150Z"
    }
   },
   "cell_type": "code",
   "source": [
    "X_train = X_train.reshape((len(X_train), np.prod(X_train.shape[1:])))\n",
    "X_test = X_test.reshape((len(X_test), np.prod(X_test.shape[1:])))\n",
    "print(X_train.shape)\n",
    "print(X_test.shape)\n",
    "plt.imshow(X_train[154].reshape(28, 28))"
   ],
   "id": "cc9c828ccdcd0ba0",
   "outputs": [
    {
     "name": "stdout",
     "output_type": "stream",
     "text": [
      "(60000, 784)\n",
      "(10000, 784)\n"
     ]
    },
    {
     "data": {
      "text/plain": [
       "<matplotlib.image.AxesImage at 0x196df26d7b0>"
      ]
     },
     "execution_count": 18,
     "metadata": {},
     "output_type": "execute_result"
    },
    {
     "data": {
      "text/plain": [
       "<Figure size 640x480 with 1 Axes>"
      ],
      "image/png": "[encoded data removed]"
     },
     "metadata": {},
     "output_type": "display_data"
    }
   ],
   "execution_count": 18
  },
  {
   "metadata": {},
   "cell_type": "markdown",
   "source": "## Build a simple autoencoder",
   "id": "5a540c2a2d80d51f"
  },
  {
   "metadata": {
    "ExecuteTime": {
     "end_time": "2024-08-08T08:56:58.274148Z",
     "start_time": "2024-08-08T08:56:58.219421Z"
    }
   },
   "cell_type": "code",
   "source": [
    "input_img = keras.Input(shape=(784,))\n",
    "encoded = keras.layers.Dense(144, activation='relu')(input_img)\n",
    "decoded = keras.layers.Dense(784, activation='sigmoid')(encoded)\n",
    "autoencoder = keras.Model(input_img, decoded)\n",
    "encoder = keras.Model(input_img, encoded)\n",
    "decoder_layer = autoencoder.layers[-1]\n",
    "encoded_input = keras.Input(shape=(144,))\n",
    "decoder = keras.Model(encoded_input, decoder_layer(encoded_input))"
   ],
   "id": "20a04743484b51e3",
   "outputs": [],
   "execution_count": 40
  },
  {
   "metadata": {
    "ExecuteTime": {
     "end_time": "2024-08-08T08:45:49.488654Z",
     "start_time": "2024-08-08T08:43:08.540764Z"
    }
   },
   "cell_type": "code",
   "source": [
    "autoencoder.compile(optimizer='adam', loss='binary_crossentropy', metrics='binary_crossentropy')\n",
    "autoencoder.fit(X_train, X_train,\n",
    "                epochs=50,\n",
    "                batch_size=256,\n",
    "                shuffle=True,\n",
    "                validation_data=(X_test, X_test))"
   ],
   "id": "84f02013d2cf68c",
   "outputs": [
    {
     "name": "stdout",
     "output_type": "stream",
     "text": [
      "Epoch 1/50\n",
      "235/235 [==============================] - 3s 10ms/step - loss: 0.2097 - binary_crossentropy: 0.2097 - val_loss: 0.1316 - val_binary_crossentropy: 0.1316\n",
      "Epoch 2/50\n",
      "235/235 [==============================] - 2s 9ms/step - loss: 0.1138 - binary_crossentropy: 0.1138 - val_loss: 0.0988 - val_binary_crossentropy: 0.0988\n",
      "Epoch 3/50\n",
      "235/235 [==============================] - 2s 8ms/step - loss: 0.0928 - binary_crossentropy: 0.0928 - val_loss: 0.0860 - val_binary_crossentropy: 0.0860\n",
      "Epoch 4/50\n",
      "235/235 [==============================] - 2s 9ms/step - loss: 0.0833 - binary_crossentropy: 0.0833 - val_loss: 0.0793 - val_binary_crossentropy: 0.0793\n",
      "Epoch 5/50\n",
      "235/235 [==============================] - 2s 8ms/step - loss: 0.0780 - binary_crossentropy: 0.0780 - val_loss: 0.0754 - val_binary_crossentropy: 0.0754\n",
      "Epoch 6/50\n",
      "235/235 [==============================] - 2s 8ms/step - loss: 0.0747 - binary_crossentropy: 0.0747 - val_loss: 0.0730 - val_binary_crossentropy: 0.0730\n",
      "Epoch 7/50\n",
      "235/235 [==============================] - 2s 8ms/step - loss: 0.0726 - binary_crossentropy: 0.0726 - val_loss: 0.0713 - val_binary_crossentropy: 0.0713\n",
      "Epoch 8/50\n",
      "235/235 [==============================] - 3s 14ms/step - loss: 0.0712 - binary_crossentropy: 0.0712 - val_loss: 0.0701 - val_binary_crossentropy: 0.0701\n",
      "Epoch 9/50\n",
      "235/235 [==============================] - 4s 18ms/step - loss: 0.0702 - binary_crossentropy: 0.0702 - val_loss: 0.0693 - val_binary_crossentropy: 0.0693\n",
      "Epoch 10/50\n",
      "235/235 [==============================] - 4s 16ms/step - loss: 0.0694 - binary_crossentropy: 0.0694 - val_loss: 0.0686 - val_binary_crossentropy: 0.0686\n",
      "Epoch 11/50\n",
      "235/235 [==============================] - 4s 18ms/step - loss: 0.0688 - binary_crossentropy: 0.0688 - val_loss: 0.0681 - val_binary_crossentropy: 0.0681\n",
      "Epoch 12/50\n",
      "235/235 [==============================] - 5s 20ms/step - loss: 0.0683 - binary_crossentropy: 0.0683 - val_loss: 0.0677 - val_binary_crossentropy: 0.0677\n",
      "Epoch 13/50\n",
      "235/235 [==============================] - 4s 19ms/step - loss: 0.0679 - binary_crossentropy: 0.0679 - val_loss: 0.0674 - val_binary_crossentropy: 0.0674\n",
      "Epoch 14/50\n",
      "235/235 [==============================] - 4s 18ms/step - loss: 0.0676 - binary_crossentropy: 0.0676 - val_loss: 0.0671 - val_binary_crossentropy: 0.0671\n",
      "Epoch 15/50\n",
      "235/235 [==============================] - 6s 24ms/step - loss: 0.0673 - binary_crossentropy: 0.0673 - val_loss: 0.0668 - val_binary_crossentropy: 0.0668\n",
      "Epoch 16/50\n",
      "235/235 [==============================] - 5s 22ms/step - loss: 0.0670 - binary_crossentropy: 0.0670 - val_loss: 0.0666 - val_binary_crossentropy: 0.0666\n",
      "Epoch 17/50\n",
      "235/235 [==============================] - 4s 19ms/step - loss: 0.0668 - binary_crossentropy: 0.0668 - val_loss: 0.0665 - val_binary_crossentropy: 0.0665\n",
      "Epoch 18/50\n",
      "235/235 [==============================] - 5s 20ms/step - loss: 0.0666 - binary_crossentropy: 0.0666 - val_loss: 0.0663 - val_binary_crossentropy: 0.0663\n",
      "Epoch 19/50\n",
      "235/235 [==============================] - 4s 17ms/step - loss: 0.0665 - binary_crossentropy: 0.0665 - val_loss: 0.0662 - val_binary_crossentropy: 0.0662\n",
      "Epoch 20/50\n",
      "235/235 [==============================] - 4s 17ms/step - loss: 0.0663 - binary_crossentropy: 0.0663 - val_loss: 0.0661 - val_binary_crossentropy: 0.0661\n",
      "Epoch 21/50\n",
      "235/235 [==============================] - 4s 19ms/step - loss: 0.0662 - binary_crossentropy: 0.0662 - val_loss: 0.0659 - val_binary_crossentropy: 0.0659\n",
      "Epoch 22/50\n",
      "235/235 [==============================] - 3s 14ms/step - loss: 0.0661 - binary_crossentropy: 0.0661 - val_loss: 0.0659 - val_binary_crossentropy: 0.0659\n",
      "Epoch 23/50\n",
      "235/235 [==============================] - 3s 14ms/step - loss: 0.0660 - binary_crossentropy: 0.0660 - val_loss: 0.0658 - val_binary_crossentropy: 0.0658\n",
      "Epoch 24/50\n",
      "235/235 [==============================] - 3s 14ms/step - loss: 0.0659 - binary_crossentropy: 0.0659 - val_loss: 0.0657 - val_binary_crossentropy: 0.0657\n",
      "Epoch 25/50\n",
      "235/235 [==============================] - 3s 11ms/step - loss: 0.0659 - binary_crossentropy: 0.0659 - val_loss: 0.0656 - val_binary_crossentropy: 0.0656\n",
      "Epoch 26/50\n",
      "235/235 [==============================] - 4s 18ms/step - loss: 0.0658 - binary_crossentropy: 0.0658 - val_loss: 0.0656 - val_binary_crossentropy: 0.0656\n",
      "Epoch 27/50\n",
      "235/235 [==============================] - 3s 12ms/step - loss: 0.0657 - binary_crossentropy: 0.0657 - val_loss: 0.0655 - val_binary_crossentropy: 0.0655\n",
      "Epoch 28/50\n",
      "235/235 [==============================] - 2s 10ms/step - loss: 0.0657 - binary_crossentropy: 0.0657 - val_loss: 0.0655 - val_binary_crossentropy: 0.0655\n",
      "Epoch 29/50\n",
      "235/235 [==============================] - 3s 11ms/step - loss: 0.0656 - binary_crossentropy: 0.0656 - val_loss: 0.0654 - val_binary_crossentropy: 0.0654\n",
      "Epoch 30/50\n",
      "235/235 [==============================] - 3s 12ms/step - loss: 0.0656 - binary_crossentropy: 0.0656 - val_loss: 0.0654 - val_binary_crossentropy: 0.0654\n",
      "Epoch 31/50\n",
      "235/235 [==============================] - 3s 11ms/step - loss: 0.0655 - binary_crossentropy: 0.0655 - val_loss: 0.0653 - val_binary_crossentropy: 0.0653\n",
      "Epoch 32/50\n",
      "235/235 [==============================] - 4s 17ms/step - loss: 0.0655 - binary_crossentropy: 0.0655 - val_loss: 0.0653 - val_binary_crossentropy: 0.0653\n",
      "Epoch 33/50\n",
      "235/235 [==============================] - 3s 15ms/step - loss: 0.0654 - binary_crossentropy: 0.0654 - val_loss: 0.0653 - val_binary_crossentropy: 0.0653\n",
      "Epoch 34/50\n",
      "235/235 [==============================] - 3s 13ms/step - loss: 0.0654 - binary_crossentropy: 0.0654 - val_loss: 0.0653 - val_binary_crossentropy: 0.0653\n",
      "Epoch 35/50\n",
      "235/235 [==============================] - 3s 12ms/step - loss: 0.0654 - binary_crossentropy: 0.0654 - val_loss: 0.0652 - val_binary_crossentropy: 0.0652\n",
      "Epoch 36/50\n",
      "235/235 [==============================] - 3s 11ms/step - loss: 0.0653 - binary_crossentropy: 0.0653 - val_loss: 0.0652 - val_binary_crossentropy: 0.0652\n",
      "Epoch 37/50\n",
      "235/235 [==============================] - 2s 11ms/step - loss: 0.0653 - binary_crossentropy: 0.0653 - val_loss: 0.0652 - val_binary_crossentropy: 0.0652\n",
      "Epoch 38/50\n",
      "235/235 [==============================] - 2s 10ms/step - loss: 0.0653 - binary_crossentropy: 0.0653 - val_loss: 0.0652 - val_binary_crossentropy: 0.0652\n",
      "Epoch 39/50\n",
      "235/235 [==============================] - 3s 12ms/step - loss: 0.0653 - binary_crossentropy: 0.0653 - val_loss: 0.0651 - val_binary_crossentropy: 0.0651\n",
      "Epoch 40/50\n",
      "235/235 [==============================] - 3s 13ms/step - loss: 0.0653 - binary_crossentropy: 0.0653 - val_loss: 0.0651 - val_binary_crossentropy: 0.0651\n",
      "Epoch 41/50\n",
      "235/235 [==============================] - 3s 11ms/step - loss: 0.0652 - binary_crossentropy: 0.0652 - val_loss: 0.0651 - val_binary_crossentropy: 0.0651\n",
      "Epoch 42/50\n",
      "235/235 [==============================] - 3s 11ms/step - loss: 0.0652 - binary_crossentropy: 0.0652 - val_loss: 0.0651 - val_binary_crossentropy: 0.0651\n",
      "Epoch 43/50\n",
      "235/235 [==============================] - 3s 13ms/step - loss: 0.0652 - binary_crossentropy: 0.0652 - val_loss: 0.0651 - val_binary_crossentropy: 0.0651\n",
      "Epoch 44/50\n",
      "235/235 [==============================] - 2s 10ms/step - loss: 0.0652 - binary_crossentropy: 0.0652 - val_loss: 0.0651 - val_binary_crossentropy: 0.0651\n",
      "Epoch 45/50\n",
      "235/235 [==============================] - 3s 12ms/step - loss: 0.0652 - binary_crossentropy: 0.0652 - val_loss: 0.0651 - val_binary_crossentropy: 0.0651\n",
      "Epoch 46/50\n",
      "235/235 [==============================] - 3s 14ms/step - loss: 0.0651 - binary_crossentropy: 0.0651 - val_loss: 0.0650 - val_binary_crossentropy: 0.0650\n",
      "Epoch 47/50\n",
      "235/235 [==============================] - 3s 15ms/step - loss: 0.0651 - binary_crossentropy: 0.0651 - val_loss: 0.0650 - val_binary_crossentropy: 0.0650\n",
      "Epoch 48/50\n",
      "235/235 [==============================] - 3s 12ms/step - loss: 0.0651 - binary_crossentropy: 0.0651 - val_loss: 0.0650 - val_binary_crossentropy: 0.0650\n",
      "Epoch 49/50\n",
      "235/235 [==============================] - 3s 11ms/step - loss: 0.0651 - binary_crossentropy: 0.0651 - val_loss: 0.0650 - val_binary_crossentropy: 0.0650\n",
      "Epoch 50/50\n",
      "235/235 [==============================] - 3s 13ms/step - loss: 0.0651 - binary_crossentropy: 0.0651 - val_loss: 0.0652 - val_binary_crossentropy: 0.0652\n"
     ]
    },
    {
     "data": {
      "text/plain": [
       "<keras.src.callbacks.History at 0x196e380b5b0>"
      ]
     },
     "execution_count": 33,
     "metadata": {},
     "output_type": "execute_result"
    }
   ],
   "execution_count": 33
  },
  {
   "metadata": {},
   "cell_type": "markdown",
   "source": "## Visualization",
   "id": "8deb9a25dcc65a57"
  },
  {
   "metadata": {
    "ExecuteTime": {
     "end_time": "2024-08-08T08:50:41.497109Z",
     "start_time": "2024-08-08T08:50:40.214559Z"
    }
   },
   "cell_type": "code",
   "source": [
    "encoded_imgs = encoder.predict(X_test)\n",
    "decoded_imgs = decoder.predict(encoded_imgs)\n",
    "plt.subplot(311)\n",
    "plt.imshow(X_test[0].reshape(28, 28))\n",
    "plt.subplot(312)\n",
    "plt.imshow(decoded_imgs[0].reshape(28, 28))\n",
    "plt.subplot(313)\n",
    "plt.imshow(np.uint(encoded_imgs[0].reshape(12, 12)))\n"
   ],
   "id": "873f5988ba5e9be5",
   "outputs": [
    {
     "name": "stdout",
     "output_type": "stream",
     "text": [
      "313/313 [==============================] - 0s 1ms/step\n",
      "313/313 [==============================] - 0s 1ms/step\n"
     ]
    },
    {
     "data": {
      "text/plain": [
       "<matplotlib.image.AxesImage at 0x196ea7f8640>"
      ]
     },
     "execution_count": 38,
     "metadata": {},
     "output_type": "execute_result"
    },
    {
     "data": {
      "text/plain": [
       "<Figure size 640x480 with 3 Axes>"
      ],
      "image/png": "[encoded data removed]"
     },
     "metadata": {},
     "output_type": "display_data"
    }
   ],
   "execution_count": 38
  },
  {
   "metadata": {},
   "cell_type": "markdown",
   "source": "## Classification",
   "id": "aca0086521d7d413"
  },
  {
   "metadata": {
    "ExecuteTime": {
     "end_time": "2024-08-08T09:03:23.854568Z",
     "start_time": "2024-08-08T08:58:03.219822Z"
    }
   },
   "cell_type": "code",
   "source": [
    "x_train_encoded, x_test_encoded = encoder(X_train), encoder(X_test)\n",
    "print(x_train_encoded.shape)\n",
    "model = keras.models.Sequential()\n",
    "model.add(keras.layers.Dense(50, activation='relu'))\n",
    "model.add(keras.layers.Dense(10, activation='softmax'))\n",
    "model.compile(optimizer='adam', loss='binary_crossentropy', metrics='accuracy')\n",
    "model.fit(x_train_encoded, tf.keras.utils.to_categorical(y_train),\n",
    "          validation_data=(x_test_encoded, tf.keras.utils.to_categorical(y_test)),\n",
    "          epochs=100,\n",
    "          batch_size=32)"
   ],
   "id": "9dacdadf0ceed5b1",
   "outputs": [
    {
     "name": "stdout",
     "output_type": "stream",
     "text": [
      "(60000, 144)\n",
      "Epoch 1/100\n",
      "1875/1875 [==============================] - 4s 2ms/step - loss: 0.1373 - accuracy: 0.7944 - val_loss: 0.0802 - val_accuracy: 0.8842\n",
      "Epoch 2/100\n",
      "1875/1875 [==============================] - 3s 2ms/step - loss: 0.0737 - accuracy: 0.8901 - val_loss: 0.0631 - val_accuracy: 0.9075\n",
      "Epoch 3/100\n",
      "1875/1875 [==============================] - 3s 2ms/step - loss: 0.0613 - accuracy: 0.9081 - val_loss: 0.0550 - val_accuracy: 0.9179\n",
      "Epoch 4/100\n",
      "1875/1875 [==============================] - 3s 2ms/step - loss: 0.0539 - accuracy: 0.9194 - val_loss: 0.0503 - val_accuracy: 0.9259\n",
      "Epoch 5/100\n",
      "1875/1875 [==============================] - 3s 2ms/step - loss: 0.0489 - accuracy: 0.9270 - val_loss: 0.0459 - val_accuracy: 0.9333\n",
      "Epoch 6/100\n",
      "1875/1875 [==============================] - 3s 2ms/step - loss: 0.0451 - accuracy: 0.9333 - val_loss: 0.0442 - val_accuracy: 0.9355\n",
      "Epoch 7/100\n",
      "1875/1875 [==============================] - 3s 2ms/step - loss: 0.0422 - accuracy: 0.9387 - val_loss: 0.0418 - val_accuracy: 0.9386\n",
      "Epoch 8/100\n",
      "1875/1875 [==============================] - 3s 2ms/step - loss: 0.0398 - accuracy: 0.9421 - val_loss: 0.0399 - val_accuracy: 0.9412\n",
      "Epoch 9/100\n",
      "1875/1875 [==============================] - 3s 2ms/step - loss: 0.0379 - accuracy: 0.9458 - val_loss: 0.0388 - val_accuracy: 0.9433\n",
      "Epoch 10/100\n",
      "1875/1875 [==============================] - 3s 2ms/step - loss: 0.0364 - accuracy: 0.9488 - val_loss: 0.0379 - val_accuracy: 0.9449\n",
      "Epoch 11/100\n",
      "1875/1875 [==============================] - 3s 2ms/step - loss: 0.0351 - accuracy: 0.9508 - val_loss: 0.0363 - val_accuracy: 0.9489\n",
      "Epoch 12/100\n",
      "1875/1875 [==============================] - 3s 2ms/step - loss: 0.0339 - accuracy: 0.9530 - val_loss: 0.0354 - val_accuracy: 0.9498\n",
      "Epoch 13/100\n",
      "1875/1875 [==============================] - 3s 2ms/step - loss: 0.0329 - accuracy: 0.9544 - val_loss: 0.0352 - val_accuracy: 0.9487\n",
      "Epoch 14/100\n",
      "1875/1875 [==============================] - 3s 2ms/step - loss: 0.0320 - accuracy: 0.9563 - val_loss: 0.0351 - val_accuracy: 0.9509\n",
      "Epoch 15/100\n",
      "1875/1875 [==============================] - 3s 2ms/step - loss: 0.0312 - accuracy: 0.9574 - val_loss: 0.0347 - val_accuracy: 0.9508\n",
      "Epoch 16/100\n",
      "1875/1875 [==============================] - 3s 2ms/step - loss: 0.0306 - accuracy: 0.9586 - val_loss: 0.0341 - val_accuracy: 0.9530\n",
      "Epoch 17/100\n",
      "1875/1875 [==============================] - 3s 2ms/step - loss: 0.0299 - accuracy: 0.9595 - val_loss: 0.0342 - val_accuracy: 0.9543\n",
      "Epoch 18/100\n",
      "1875/1875 [==============================] - 3s 2ms/step - loss: 0.0293 - accuracy: 0.9606 - val_loss: 0.0335 - val_accuracy: 0.9538\n",
      "Epoch 19/100\n",
      "1875/1875 [==============================] - 3s 2ms/step - loss: 0.0288 - accuracy: 0.9611 - val_loss: 0.0341 - val_accuracy: 0.9517\n",
      "Epoch 20/100\n",
      "1875/1875 [==============================] - 3s 2ms/step - loss: 0.0283 - accuracy: 0.9622 - val_loss: 0.0334 - val_accuracy: 0.9533\n",
      "Epoch 21/100\n",
      "1875/1875 [==============================] - 3s 2ms/step - loss: 0.0278 - accuracy: 0.9628 - val_loss: 0.0340 - val_accuracy: 0.9512\n",
      "Epoch 22/100\n",
      "1875/1875 [==============================] - 3s 2ms/step - loss: 0.0275 - accuracy: 0.9636 - val_loss: 0.0331 - val_accuracy: 0.9530\n",
      "Epoch 23/100\n",
      "1875/1875 [==============================] - 3s 2ms/step - loss: 0.0271 - accuracy: 0.9642 - val_loss: 0.0337 - val_accuracy: 0.9525\n",
      "Epoch 24/100\n",
      "1875/1875 [==============================] - 3s 2ms/step - loss: 0.0266 - accuracy: 0.9657 - val_loss: 0.0343 - val_accuracy: 0.9536\n",
      "Epoch 25/100\n",
      "1875/1875 [==============================] - 3s 2ms/step - loss: 0.0263 - accuracy: 0.9660 - val_loss: 0.0330 - val_accuracy: 0.9548\n",
      "Epoch 26/100\n",
      "1875/1875 [==============================] - 3s 2ms/step - loss: 0.0260 - accuracy: 0.9668 - val_loss: 0.0332 - val_accuracy: 0.9529\n",
      "Epoch 27/100\n",
      "1875/1875 [==============================] - 3s 2ms/step - loss: 0.0257 - accuracy: 0.9669 - val_loss: 0.0332 - val_accuracy: 0.9544\n",
      "Epoch 28/100\n",
      "1875/1875 [==============================] - 3s 2ms/step - loss: 0.0255 - accuracy: 0.9668 - val_loss: 0.0332 - val_accuracy: 0.9535\n",
      "Epoch 29/100\n",
      "1875/1875 [==============================] - 3s 2ms/step - loss: 0.0252 - accuracy: 0.9677 - val_loss: 0.0337 - val_accuracy: 0.9536\n",
      "Epoch 30/100\n",
      "1875/1875 [==============================] - 3s 2ms/step - loss: 0.0249 - accuracy: 0.9684 - val_loss: 0.0326 - val_accuracy: 0.9548\n",
      "Epoch 31/100\n",
      "1875/1875 [==============================] - 3s 2ms/step - loss: 0.0246 - accuracy: 0.9689 - val_loss: 0.0327 - val_accuracy: 0.9536\n",
      "Epoch 32/100\n",
      "1875/1875 [==============================] - 3s 2ms/step - loss: 0.0245 - accuracy: 0.9697 - val_loss: 0.0334 - val_accuracy: 0.9537\n",
      "Epoch 33/100\n",
      "1875/1875 [==============================] - 3s 2ms/step - loss: 0.0243 - accuracy: 0.9691 - val_loss: 0.0331 - val_accuracy: 0.9552\n",
      "Epoch 34/100\n",
      "1875/1875 [==============================] - 3s 2ms/step - loss: 0.0239 - accuracy: 0.9697 - val_loss: 0.0335 - val_accuracy: 0.9542\n",
      "Epoch 35/100\n",
      "1875/1875 [==============================] - 3s 2ms/step - loss: 0.0238 - accuracy: 0.9703 - val_loss: 0.0333 - val_accuracy: 0.9550\n",
      "Epoch 36/100\n",
      "1875/1875 [==============================] - 3s 2ms/step - loss: 0.0235 - accuracy: 0.9706 - val_loss: 0.0330 - val_accuracy: 0.9551\n",
      "Epoch 37/100\n",
      "1875/1875 [==============================] - 3s 2ms/step - loss: 0.0234 - accuracy: 0.9713 - val_loss: 0.0332 - val_accuracy: 0.9559\n",
      "Epoch 38/100\n",
      "1875/1875 [==============================] - 3s 2ms/step - loss: 0.0232 - accuracy: 0.9717 - val_loss: 0.0333 - val_accuracy: 0.9548\n",
      "Epoch 39/100\n",
      "1875/1875 [==============================] - 3s 2ms/step - loss: 0.0231 - accuracy: 0.9711 - val_loss: 0.0332 - val_accuracy: 0.9563\n",
      "Epoch 40/100\n",
      "1875/1875 [==============================] - 3s 2ms/step - loss: 0.0229 - accuracy: 0.9717 - val_loss: 0.0342 - val_accuracy: 0.9535\n",
      "Epoch 41/100\n",
      "1875/1875 [==============================] - 3s 2ms/step - loss: 0.0228 - accuracy: 0.9718 - val_loss: 0.0335 - val_accuracy: 0.9555\n",
      "Epoch 42/100\n",
      "1875/1875 [==============================] - 3s 2ms/step - loss: 0.0225 - accuracy: 0.9727 - val_loss: 0.0337 - val_accuracy: 0.9560\n",
      "Epoch 43/100\n",
      "1875/1875 [==============================] - 3s 2ms/step - loss: 0.0224 - accuracy: 0.9725 - val_loss: 0.0333 - val_accuracy: 0.9568\n",
      "Epoch 44/100\n",
      "1875/1875 [==============================] - 3s 2ms/step - loss: 0.0222 - accuracy: 0.9730 - val_loss: 0.0332 - val_accuracy: 0.9559\n",
      "Epoch 45/100\n",
      "1875/1875 [==============================] - 3s 2ms/step - loss: 0.0222 - accuracy: 0.9728 - val_loss: 0.0341 - val_accuracy: 0.9559\n",
      "Epoch 46/100\n",
      "1875/1875 [==============================] - 3s 2ms/step - loss: 0.0220 - accuracy: 0.9734 - val_loss: 0.0339 - val_accuracy: 0.9560\n",
      "Epoch 47/100\n",
      "1875/1875 [==============================] - 3s 2ms/step - loss: 0.0219 - accuracy: 0.9731 - val_loss: 0.0340 - val_accuracy: 0.9555\n",
      "Epoch 48/100\n",
      "1875/1875 [==============================] - 3s 2ms/step - loss: 0.0218 - accuracy: 0.9732 - val_loss: 0.0342 - val_accuracy: 0.9564\n",
      "Epoch 49/100\n",
      "1875/1875 [==============================] - 3s 2ms/step - loss: 0.0216 - accuracy: 0.9735 - val_loss: 0.0338 - val_accuracy: 0.9565\n",
      "Epoch 50/100\n",
      "1875/1875 [==============================] - 3s 2ms/step - loss: 0.0215 - accuracy: 0.9736 - val_loss: 0.0346 - val_accuracy: 0.9549\n",
      "Epoch 51/100\n",
      "1875/1875 [==============================] - 3s 2ms/step - loss: 0.0214 - accuracy: 0.9740 - val_loss: 0.0338 - val_accuracy: 0.9575\n",
      "Epoch 52/100\n",
      "1875/1875 [==============================] - 3s 2ms/step - loss: 0.0213 - accuracy: 0.9748 - val_loss: 0.0345 - val_accuracy: 0.9555\n",
      "Epoch 53/100\n",
      "1875/1875 [==============================] - 3s 2ms/step - loss: 0.0212 - accuracy: 0.9749 - val_loss: 0.0339 - val_accuracy: 0.9569\n",
      "Epoch 54/100\n",
      "1875/1875 [==============================] - 3s 2ms/step - loss: 0.0211 - accuracy: 0.9745 - val_loss: 0.0346 - val_accuracy: 0.9562\n",
      "Epoch 55/100\n",
      "1875/1875 [==============================] - 3s 2ms/step - loss: 0.0210 - accuracy: 0.9747 - val_loss: 0.0348 - val_accuracy: 0.9561\n",
      "Epoch 56/100\n",
      "1875/1875 [==============================] - 3s 2ms/step - loss: 0.0209 - accuracy: 0.9749 - val_loss: 0.0348 - val_accuracy: 0.9555\n",
      "Epoch 57/100\n",
      "1875/1875 [==============================] - 3s 2ms/step - loss: 0.0208 - accuracy: 0.9753 - val_loss: 0.0351 - val_accuracy: 0.9560\n",
      "Epoch 58/100\n",
      "1875/1875 [==============================] - 3s 2ms/step - loss: 0.0207 - accuracy: 0.9751 - val_loss: 0.0345 - val_accuracy: 0.9568\n",
      "Epoch 59/100\n",
      "1875/1875 [==============================] - 3s 2ms/step - loss: 0.0207 - accuracy: 0.9755 - val_loss: 0.0351 - val_accuracy: 0.9549\n",
      "Epoch 60/100\n",
      "1875/1875 [==============================] - 3s 2ms/step - loss: 0.0206 - accuracy: 0.9757 - val_loss: 0.0353 - val_accuracy: 0.9537\n",
      "Epoch 61/100\n",
      "1875/1875 [==============================] - 3s 2ms/step - loss: 0.0205 - accuracy: 0.9757 - val_loss: 0.0350 - val_accuracy: 0.9545\n",
      "Epoch 62/100\n",
      "1875/1875 [==============================] - 3s 2ms/step - loss: 0.0204 - accuracy: 0.9756 - val_loss: 0.0348 - val_accuracy: 0.9557\n",
      "Epoch 63/100\n",
      "1875/1875 [==============================] - 3s 2ms/step - loss: 0.0204 - accuracy: 0.9759 - val_loss: 0.0363 - val_accuracy: 0.9532\n",
      "Epoch 64/100\n",
      "1875/1875 [==============================] - 3s 2ms/step - loss: 0.0202 - accuracy: 0.9759 - val_loss: 0.0360 - val_accuracy: 0.9553\n",
      "Epoch 65/100\n",
      "1875/1875 [==============================] - 3s 2ms/step - loss: 0.0202 - accuracy: 0.9766 - val_loss: 0.0355 - val_accuracy: 0.9559\n",
      "Epoch 66/100\n",
      "1875/1875 [==============================] - 3s 2ms/step - loss: 0.0201 - accuracy: 0.9770 - val_loss: 0.0351 - val_accuracy: 0.9559\n",
      "Epoch 67/100\n",
      "1875/1875 [==============================] - 3s 2ms/step - loss: 0.0201 - accuracy: 0.9764 - val_loss: 0.0357 - val_accuracy: 0.9557\n",
      "Epoch 68/100\n",
      "1875/1875 [==============================] - 3s 2ms/step - loss: 0.0200 - accuracy: 0.9763 - val_loss: 0.0353 - val_accuracy: 0.9551\n",
      "Epoch 69/100\n",
      "1875/1875 [==============================] - 3s 2ms/step - loss: 0.0199 - accuracy: 0.9768 - val_loss: 0.0360 - val_accuracy: 0.9557\n",
      "Epoch 70/100\n",
      "1875/1875 [==============================] - 3s 2ms/step - loss: 0.0199 - accuracy: 0.9767 - val_loss: 0.0357 - val_accuracy: 0.9560\n",
      "Epoch 71/100\n",
      "1875/1875 [==============================] - 3s 2ms/step - loss: 0.0199 - accuracy: 0.9771 - val_loss: 0.0357 - val_accuracy: 0.9559\n",
      "Epoch 72/100\n",
      "1875/1875 [==============================] - 3s 2ms/step - loss: 0.0198 - accuracy: 0.9771 - val_loss: 0.0366 - val_accuracy: 0.9541\n",
      "Epoch 73/100\n",
      "1875/1875 [==============================] - 3s 2ms/step - loss: 0.0197 - accuracy: 0.9771 - val_loss: 0.0359 - val_accuracy: 0.9562\n",
      "Epoch 74/100\n",
      "1875/1875 [==============================] - 3s 2ms/step - loss: 0.0196 - accuracy: 0.9778 - val_loss: 0.0364 - val_accuracy: 0.9546\n",
      "Epoch 75/100\n",
      "1875/1875 [==============================] - 3s 2ms/step - loss: 0.0196 - accuracy: 0.9776 - val_loss: 0.0367 - val_accuracy: 0.9532\n",
      "Epoch 76/100\n",
      "1875/1875 [==============================] - 3s 2ms/step - loss: 0.0195 - accuracy: 0.9773 - val_loss: 0.0361 - val_accuracy: 0.9558\n",
      "Epoch 77/100\n",
      "1875/1875 [==============================] - 3s 2ms/step - loss: 0.0195 - accuracy: 0.9776 - val_loss: 0.0371 - val_accuracy: 0.9536\n",
      "Epoch 78/100\n",
      "1875/1875 [==============================] - 3s 2ms/step - loss: 0.0194 - accuracy: 0.9775 - val_loss: 0.0371 - val_accuracy: 0.9540\n",
      "Epoch 79/100\n",
      "1875/1875 [==============================] - 3s 2ms/step - loss: 0.0194 - accuracy: 0.9777 - val_loss: 0.0365 - val_accuracy: 0.9551\n",
      "Epoch 80/100\n",
      "1875/1875 [==============================] - 3s 2ms/step - loss: 0.0193 - accuracy: 0.9780 - val_loss: 0.0366 - val_accuracy: 0.9542\n",
      "Epoch 81/100\n",
      "1875/1875 [==============================] - 3s 2ms/step - loss: 0.0193 - accuracy: 0.9774 - val_loss: 0.0370 - val_accuracy: 0.9547\n",
      "Epoch 82/100\n",
      "1875/1875 [==============================] - 3s 2ms/step - loss: 0.0193 - accuracy: 0.9776 - val_loss: 0.0370 - val_accuracy: 0.9548\n",
      "Epoch 83/100\n",
      "1875/1875 [==============================] - 3s 2ms/step - loss: 0.0192 - accuracy: 0.9780 - val_loss: 0.0373 - val_accuracy: 0.9551\n",
      "Epoch 84/100\n",
      "1875/1875 [==============================] - 3s 2ms/step - loss: 0.0192 - accuracy: 0.9778 - val_loss: 0.0374 - val_accuracy: 0.9544\n",
      "Epoch 85/100\n",
      "1875/1875 [==============================] - 4s 2ms/step - loss: 0.0192 - accuracy: 0.9786 - val_loss: 0.0366 - val_accuracy: 0.9545\n",
      "Epoch 86/100\n",
      "1875/1875 [==============================] - 4s 2ms/step - loss: 0.0191 - accuracy: 0.9779 - val_loss: 0.0375 - val_accuracy: 0.9541\n",
      "Epoch 87/100\n",
      "1875/1875 [==============================] - 3s 2ms/step - loss: 0.0190 - accuracy: 0.9782 - val_loss: 0.0370 - val_accuracy: 0.9539\n",
      "Epoch 88/100\n",
      "1875/1875 [==============================] - 4s 2ms/step - loss: 0.0190 - accuracy: 0.9788 - val_loss: 0.0379 - val_accuracy: 0.9537\n",
      "Epoch 89/100\n",
      "1875/1875 [==============================] - 3s 2ms/step - loss: 0.0189 - accuracy: 0.9782 - val_loss: 0.0379 - val_accuracy: 0.9552\n",
      "Epoch 90/100\n",
      "1875/1875 [==============================] - 3s 2ms/step - loss: 0.0189 - accuracy: 0.9785 - val_loss: 0.0373 - val_accuracy: 0.9547\n",
      "Epoch 91/100\n",
      "1875/1875 [==============================] - 3s 2ms/step - loss: 0.0188 - accuracy: 0.9787 - val_loss: 0.0376 - val_accuracy: 0.9558\n",
      "Epoch 92/100\n",
      "1875/1875 [==============================] - 3s 2ms/step - loss: 0.0188 - accuracy: 0.9785 - val_loss: 0.0372 - val_accuracy: 0.9542\n",
      "Epoch 93/100\n",
      "1875/1875 [==============================] - 4s 2ms/step - loss: 0.0187 - accuracy: 0.9784 - val_loss: 0.0381 - val_accuracy: 0.9551\n",
      "Epoch 94/100\n",
      "1875/1875 [==============================] - 3s 2ms/step - loss: 0.0188 - accuracy: 0.9789 - val_loss: 0.0378 - val_accuracy: 0.9553\n",
      "Epoch 95/100\n",
      "1875/1875 [==============================] - 4s 2ms/step - loss: 0.0187 - accuracy: 0.9788 - val_loss: 0.0377 - val_accuracy: 0.9555\n",
      "Epoch 96/100\n",
      "1875/1875 [==============================] - 3s 2ms/step - loss: 0.0186 - accuracy: 0.9786 - val_loss: 0.0376 - val_accuracy: 0.9555\n",
      "Epoch 97/100\n",
      "1875/1875 [==============================] - 3s 2ms/step - loss: 0.0186 - accuracy: 0.9791 - val_loss: 0.0376 - val_accuracy: 0.9547\n",
      "Epoch 98/100\n",
      "1875/1875 [==============================] - 3s 2ms/step - loss: 0.0186 - accuracy: 0.9787 - val_loss: 0.0383 - val_accuracy: 0.9547\n",
      "Epoch 99/100\n",
      "1875/1875 [==============================] - 3s 2ms/step - loss: 0.0185 - accuracy: 0.9792 - val_loss: 0.0377 - val_accuracy: 0.9543\n",
      "Epoch 100/100\n",
      "1875/1875 [==============================] - 3s 2ms/step - loss: 0.0185 - accuracy: 0.9789 - val_loss: 0.0385 - val_accuracy: 0.9552\n"
     ]
    },
    {
     "data": {
      "text/plain": [
       "<keras.src.callbacks.History at 0x196ea8cace0>"
      ]
     },
     "execution_count": 43,
     "metadata": {},
     "output_type": "execute_result"
    }
   ],
   "execution_count": 43
  },
  {
   "metadata": {},
   "cell_type": "markdown",
   "source": "## Evaluation of the model",
   "id": "e2b94c58a7306ad1"
  },
  {
   "metadata": {
    "ExecuteTime": {
     "end_time": "2024-08-08T09:08:59.512769Z",
     "start_time": "2024-08-08T09:08:58.623078Z"
    }
   },
   "cell_type": "code",
   "source": [
    "y_pre_te = model.predict(x_test_encoded)\n",
    "print(confusion_matrix(np.argmax(y_pre_te, axis=1), y_test))\n",
    "print(classification_report(np.argmax(y_pre_te, axis=1), y_test))"
   ],
   "id": "f28ff7940e9fd44d",
   "outputs": [
    {
     "name": "stdout",
     "output_type": "stream",
     "text": [
      "313/313 [==============================] - 1s 2ms/step\n",
      "[[ 958    0    6    0    3   10    9    1    6    5]\n",
      " [   0 1119    4    0    3    2    4    4    1    6]\n",
      " [   1    1  977    8    3    1    3   14   12    2]\n",
      " [   2    4   13  975    2   15    0    5   29    8]\n",
      " [   3    0    4    0  934    1    4    4    6   17]\n",
      " [   3    0    1    9    1  833    5    3    7    5]\n",
      " [   5    5    3    1    6   10  931    0    3    0]\n",
      " [   4    2   12    5    4    4    0  980    6    7]\n",
      " [   3    4   12    6    2    7    1    2  895    9]\n",
      " [   1    0    0    6   24    9    1   15    9  950]]\n",
      "              precision    recall  f1-score   support\n",
      "\n",
      "           0       0.98      0.96      0.97       998\n",
      "           1       0.99      0.98      0.98      1143\n",
      "           2       0.95      0.96      0.95      1022\n",
      "           3       0.97      0.93      0.95      1053\n",
      "           4       0.95      0.96      0.96       973\n",
      "           5       0.93      0.96      0.95       867\n",
      "           6       0.97      0.97      0.97       964\n",
      "           7       0.95      0.96      0.96      1024\n",
      "           8       0.92      0.95      0.93       941\n",
      "           9       0.94      0.94      0.94      1015\n",
      "\n",
      "    accuracy                           0.96     10000\n",
      "   macro avg       0.95      0.96      0.95     10000\n",
      "weighted avg       0.96      0.96      0.96     10000\n",
      "\n"
     ]
    }
   ],
   "execution_count": 44
  },
  {
   "metadata": {},
   "cell_type": "markdown",
   "source": "## Brest Cancer Prediction With Auto Encoders",
   "id": "f8418d59cee7702c"
  },
  {
   "metadata": {},
   "cell_type": "markdown",
   "source": "## Data loading",
   "id": "1b15df5541d83978"
  },
  {
   "metadata": {
    "ExecuteTime": {
     "end_time": "2024-08-08T09:12:37.152621Z",
     "start_time": "2024-08-08T09:12:37.114251Z"
    }
   },
   "cell_type": "code",
   "source": [
    "data = load_breast_cancer()\n",
    "X = data.data\n",
    "y = data.target\n",
    "X_train, X_test, y_train, y_test = train_test_split(X, y, test_size=0.3)\n",
    "scaler = MinMaxScaler().fit(X_train)\n",
    "X_train, X_test = scaler.fit_transform(X_train), scaler.fit_transform(X_test)"
   ],
   "id": "a6fa126960ad3800",
   "outputs": [],
   "execution_count": 46
  },
  {
   "metadata": {
    "ExecuteTime": {
     "end_time": "2024-08-08T09:13:09.511878Z",
     "start_time": "2024-08-08T09:13:09.493406Z"
    }
   },
   "cell_type": "code",
   "source": "X_train.shape",
   "id": "6e01cf466d1fd7d5",
   "outputs": [
    {
     "data": {
      "text/plain": [
       "(398, 30)"
      ]
     },
     "execution_count": 48,
     "metadata": {},
     "output_type": "execute_result"
    }
   ],
   "execution_count": 48
  },
  {
   "metadata": {
    "ExecuteTime": {
     "end_time": "2024-08-08T09:17:43.835325Z",
     "start_time": "2024-08-08T09:17:43.787232Z"
    }
   },
   "cell_type": "code",
   "source": [
    "input_m = keras.Input(shape=(30,))\n",
    "encoded = keras.layers.Dense(2, activation='sigmoid')(input_m)\n",
    "decoded = keras.layers.Dense(30, activation='linear')(encoded)\n",
    "autoencoder = keras.Model(input_m, decoded)\n",
    "encoder = keras.Model(input_m, encoded)\n",
    "decoder_layer = autoencoder.layers[-1]\n",
    "encoded_input = keras.Input(shape=(2,))\n",
    "decoder = keras.Model(encoded_input, decoder_layer(encoded_input))"
   ],
   "id": "846babebf6cfcc3f",
   "outputs": [],
   "execution_count": 51
  },
  {
   "metadata": {
    "ExecuteTime": {
     "end_time": "2024-08-08T09:19:40.124071Z",
     "start_time": "2024-08-08T09:19:19.781633Z"
    }
   },
   "cell_type": "code",
   "source": [
    "autoencoder.compile(optimizer='adam', loss='mse', metrics='mse')\n",
    "autoencoder.fit(X_train, X_train, epochs=100, batch_size=5, shuffle=True, validation_data=(X_test, X_test))"
   ],
   "id": "20ab850944d90361",
   "outputs": [
    {
     "name": "stdout",
     "output_type": "stream",
     "text": [
      "Epoch 1/100\n",
      "80/80 [==============================] - 1s 4ms/step - loss: 0.1004 - mse: 0.1004 - val_loss: 0.0779 - val_mse: 0.0779\n",
      "Epoch 2/100\n",
      "80/80 [==============================] - 0s 2ms/step - loss: 0.0556 - mse: 0.0556 - val_loss: 0.0519 - val_mse: 0.0519\n",
      "Epoch 3/100\n",
      "80/80 [==============================] - 0s 2ms/step - loss: 0.0376 - mse: 0.0376 - val_loss: 0.0407 - val_mse: 0.0407\n",
      "Epoch 4/100\n",
      "80/80 [==============================] - 0s 2ms/step - loss: 0.0293 - mse: 0.0293 - val_loss: 0.0357 - val_mse: 0.0357\n",
      "Epoch 5/100\n",
      "80/80 [==============================] - 0s 2ms/step - loss: 0.0256 - mse: 0.0256 - val_loss: 0.0335 - val_mse: 0.0335\n",
      "Epoch 6/100\n",
      "80/80 [==============================] - 0s 2ms/step - loss: 0.0239 - mse: 0.0239 - val_loss: 0.0323 - val_mse: 0.0323\n",
      "Epoch 7/100\n",
      "80/80 [==============================] - 0s 2ms/step - loss: 0.0231 - mse: 0.0231 - val_loss: 0.0314 - val_mse: 0.0314\n",
      "Epoch 8/100\n",
      "80/80 [==============================] - 0s 2ms/step - loss: 0.0226 - mse: 0.0226 - val_loss: 0.0309 - val_mse: 0.0309\n",
      "Epoch 9/100\n",
      "80/80 [==============================] - 0s 2ms/step - loss: 0.0221 - mse: 0.0221 - val_loss: 0.0302 - val_mse: 0.0302\n",
      "Epoch 10/100\n",
      "80/80 [==============================] - 0s 2ms/step - loss: 0.0217 - mse: 0.0217 - val_loss: 0.0297 - val_mse: 0.0297\n",
      "Epoch 11/100\n",
      "80/80 [==============================] - 0s 2ms/step - loss: 0.0212 - mse: 0.0212 - val_loss: 0.0291 - val_mse: 0.0291\n",
      "Epoch 12/100\n",
      "80/80 [==============================] - 0s 2ms/step - loss: 0.0207 - mse: 0.0207 - val_loss: 0.0287 - val_mse: 0.0287\n",
      "Epoch 13/100\n",
      "80/80 [==============================] - 0s 3ms/step - loss: 0.0203 - mse: 0.0203 - val_loss: 0.0281 - val_mse: 0.0281\n",
      "Epoch 14/100\n",
      "80/80 [==============================] - 0s 3ms/step - loss: 0.0198 - mse: 0.0198 - val_loss: 0.0276 - val_mse: 0.0276\n",
      "Epoch 15/100\n",
      "80/80 [==============================] - 0s 2ms/step - loss: 0.0192 - mse: 0.0192 - val_loss: 0.0268 - val_mse: 0.0268\n",
      "Epoch 16/100\n",
      "80/80 [==============================] - 0s 2ms/step - loss: 0.0187 - mse: 0.0187 - val_loss: 0.0264 - val_mse: 0.0264\n",
      "Epoch 17/100\n",
      "80/80 [==============================] - 0s 2ms/step - loss: 0.0182 - mse: 0.0182 - val_loss: 0.0257 - val_mse: 0.0257\n",
      "Epoch 18/100\n",
      "80/80 [==============================] - 0s 2ms/step - loss: 0.0177 - mse: 0.0177 - val_loss: 0.0252 - val_mse: 0.0252\n",
      "Epoch 19/100\n",
      "80/80 [==============================] - 0s 2ms/step - loss: 0.0172 - mse: 0.0172 - val_loss: 0.0250 - val_mse: 0.0250\n",
      "Epoch 20/100\n",
      "80/80 [==============================] - 0s 2ms/step - loss: 0.0167 - mse: 0.0167 - val_loss: 0.0241 - val_mse: 0.0241\n",
      "Epoch 21/100\n",
      "80/80 [==============================] - 0s 2ms/step - loss: 0.0162 - mse: 0.0162 - val_loss: 0.0235 - val_mse: 0.0235\n",
      "Epoch 22/100\n",
      "80/80 [==============================] - 0s 2ms/step - loss: 0.0158 - mse: 0.0158 - val_loss: 0.0230 - val_mse: 0.0230\n",
      "Epoch 23/100\n",
      "80/80 [==============================] - 0s 2ms/step - loss: 0.0154 - mse: 0.0154 - val_loss: 0.0226 - val_mse: 0.0226\n",
      "Epoch 24/100\n",
      "80/80 [==============================] - 0s 2ms/step - loss: 0.0150 - mse: 0.0150 - val_loss: 0.0219 - val_mse: 0.0219\n",
      "Epoch 25/100\n",
      "80/80 [==============================] - 0s 2ms/step - loss: 0.0146 - mse: 0.0146 - val_loss: 0.0220 - val_mse: 0.0220\n",
      "Epoch 26/100\n",
      "80/80 [==============================] - 0s 2ms/step - loss: 0.0143 - mse: 0.0143 - val_loss: 0.0215 - val_mse: 0.0215\n",
      "Epoch 27/100\n",
      "80/80 [==============================] - 0s 2ms/step - loss: 0.0139 - mse: 0.0139 - val_loss: 0.0213 - val_mse: 0.0213\n",
      "Epoch 28/100\n",
      "80/80 [==============================] - 0s 2ms/step - loss: 0.0136 - mse: 0.0136 - val_loss: 0.0211 - val_mse: 0.0211\n",
      "Epoch 29/100\n",
      "80/80 [==============================] - 0s 2ms/step - loss: 0.0133 - mse: 0.0133 - val_loss: 0.0204 - val_mse: 0.0204\n",
      "Epoch 30/100\n",
      "80/80 [==============================] - 0s 2ms/step - loss: 0.0131 - mse: 0.0131 - val_loss: 0.0201 - val_mse: 0.0201\n",
      "Epoch 31/100\n",
      "80/80 [==============================] - 0s 2ms/step - loss: 0.0128 - mse: 0.0128 - val_loss: 0.0200 - val_mse: 0.0200\n",
      "Epoch 32/100\n",
      "80/80 [==============================] - 0s 2ms/step - loss: 0.0125 - mse: 0.0125 - val_loss: 0.0194 - val_mse: 0.0194\n",
      "Epoch 33/100\n",
      "80/80 [==============================] - 0s 2ms/step - loss: 0.0123 - mse: 0.0123 - val_loss: 0.0192 - val_mse: 0.0192\n",
      "Epoch 34/100\n",
      "80/80 [==============================] - 0s 2ms/step - loss: 0.0121 - mse: 0.0121 - val_loss: 0.0191 - val_mse: 0.0191\n",
      "Epoch 35/100\n",
      "80/80 [==============================] - 0s 3ms/step - loss: 0.0118 - mse: 0.0118 - val_loss: 0.0190 - val_mse: 0.0190\n",
      "Epoch 36/100\n",
      "80/80 [==============================] - 0s 3ms/step - loss: 0.0116 - mse: 0.0116 - val_loss: 0.0188 - val_mse: 0.0188\n",
      "Epoch 37/100\n",
      "80/80 [==============================] - 0s 3ms/step - loss: 0.0114 - mse: 0.0114 - val_loss: 0.0184 - val_mse: 0.0184\n",
      "Epoch 38/100\n",
      "80/80 [==============================] - 0s 2ms/step - loss: 0.0112 - mse: 0.0112 - val_loss: 0.0183 - val_mse: 0.0183\n",
      "Epoch 39/100\n",
      "80/80 [==============================] - 0s 2ms/step - loss: 0.0111 - mse: 0.0111 - val_loss: 0.0181 - val_mse: 0.0181\n",
      "Epoch 40/100\n",
      "80/80 [==============================] - 0s 2ms/step - loss: 0.0109 - mse: 0.0109 - val_loss: 0.0178 - val_mse: 0.0178\n",
      "Epoch 41/100\n",
      "80/80 [==============================] - 0s 3ms/step - loss: 0.0107 - mse: 0.0107 - val_loss: 0.0176 - val_mse: 0.0176\n",
      "Epoch 42/100\n",
      "80/80 [==============================] - 0s 3ms/step - loss: 0.0105 - mse: 0.0105 - val_loss: 0.0175 - val_mse: 0.0175\n",
      "Epoch 43/100\n",
      "80/80 [==============================] - 0s 3ms/step - loss: 0.0104 - mse: 0.0104 - val_loss: 0.0174 - val_mse: 0.0174\n",
      "Epoch 44/100\n",
      "80/80 [==============================] - 0s 2ms/step - loss: 0.0103 - mse: 0.0103 - val_loss: 0.0172 - val_mse: 0.0172\n",
      "Epoch 45/100\n",
      "80/80 [==============================] - 0s 2ms/step - loss: 0.0101 - mse: 0.0101 - val_loss: 0.0171 - val_mse: 0.0171\n",
      "Epoch 46/100\n",
      "80/80 [==============================] - 0s 2ms/step - loss: 0.0100 - mse: 0.0100 - val_loss: 0.0169 - val_mse: 0.0169\n",
      "Epoch 47/100\n",
      "80/80 [==============================] - 0s 2ms/step - loss: 0.0099 - mse: 0.0099 - val_loss: 0.0168 - val_mse: 0.0168\n",
      "Epoch 48/100\n",
      "80/80 [==============================] - 0s 2ms/step - loss: 0.0098 - mse: 0.0098 - val_loss: 0.0166 - val_mse: 0.0166\n",
      "Epoch 49/100\n",
      "80/80 [==============================] - 0s 2ms/step - loss: 0.0097 - mse: 0.0097 - val_loss: 0.0165 - val_mse: 0.0165\n",
      "Epoch 50/100\n",
      "80/80 [==============================] - 0s 2ms/step - loss: 0.0096 - mse: 0.0096 - val_loss: 0.0165 - val_mse: 0.0165\n",
      "Epoch 51/100\n",
      "80/80 [==============================] - 0s 2ms/step - loss: 0.0095 - mse: 0.0095 - val_loss: 0.0163 - val_mse: 0.0163\n",
      "Epoch 52/100\n",
      "80/80 [==============================] - 0s 2ms/step - loss: 0.0094 - mse: 0.0094 - val_loss: 0.0164 - val_mse: 0.0164\n",
      "Epoch 53/100\n",
      "80/80 [==============================] - 0s 3ms/step - loss: 0.0093 - mse: 0.0093 - val_loss: 0.0161 - val_mse: 0.0161\n",
      "Epoch 54/100\n",
      "80/80 [==============================] - 0s 3ms/step - loss: 0.0093 - mse: 0.0093 - val_loss: 0.0162 - val_mse: 0.0162\n",
      "Epoch 55/100\n",
      "80/80 [==============================] - 0s 3ms/step - loss: 0.0092 - mse: 0.0092 - val_loss: 0.0161 - val_mse: 0.0161\n",
      "Epoch 56/100\n",
      "80/80 [==============================] - 0s 3ms/step - loss: 0.0091 - mse: 0.0091 - val_loss: 0.0161 - val_mse: 0.0161\n",
      "Epoch 57/100\n",
      "80/80 [==============================] - 0s 2ms/step - loss: 0.0091 - mse: 0.0091 - val_loss: 0.0160 - val_mse: 0.0160\n",
      "Epoch 58/100\n",
      "80/80 [==============================] - 0s 3ms/step - loss: 0.0091 - mse: 0.0091 - val_loss: 0.0160 - val_mse: 0.0160\n",
      "Epoch 59/100\n",
      "80/80 [==============================] - 0s 3ms/step - loss: 0.0090 - mse: 0.0090 - val_loss: 0.0159 - val_mse: 0.0159\n",
      "Epoch 60/100\n",
      "80/80 [==============================] - 0s 2ms/step - loss: 0.0090 - mse: 0.0090 - val_loss: 0.0159 - val_mse: 0.0159\n",
      "Epoch 61/100\n",
      "80/80 [==============================] - 0s 3ms/step - loss: 0.0089 - mse: 0.0089 - val_loss: 0.0159 - val_mse: 0.0159\n",
      "Epoch 62/100\n",
      "80/80 [==============================] - 0s 2ms/step - loss: 0.0089 - mse: 0.0089 - val_loss: 0.0156 - val_mse: 0.0156\n",
      "Epoch 63/100\n",
      "80/80 [==============================] - 0s 3ms/step - loss: 0.0089 - mse: 0.0089 - val_loss: 0.0158 - val_mse: 0.0158\n",
      "Epoch 64/100\n",
      "80/80 [==============================] - 0s 2ms/step - loss: 0.0089 - mse: 0.0089 - val_loss: 0.0159 - val_mse: 0.0159\n",
      "Epoch 65/100\n",
      "80/80 [==============================] - 0s 2ms/step - loss: 0.0088 - mse: 0.0088 - val_loss: 0.0157 - val_mse: 0.0157\n",
      "Epoch 66/100\n",
      "80/80 [==============================] - 0s 2ms/step - loss: 0.0088 - mse: 0.0088 - val_loss: 0.0158 - val_mse: 0.0158\n",
      "Epoch 67/100\n",
      "80/80 [==============================] - 0s 2ms/step - loss: 0.0088 - mse: 0.0088 - val_loss: 0.0157 - val_mse: 0.0157\n",
      "Epoch 68/100\n",
      "80/80 [==============================] - 0s 2ms/step - loss: 0.0088 - mse: 0.0088 - val_loss: 0.0156 - val_mse: 0.0156\n",
      "Epoch 69/100\n",
      "80/80 [==============================] - 0s 2ms/step - loss: 0.0087 - mse: 0.0087 - val_loss: 0.0158 - val_mse: 0.0158\n",
      "Epoch 70/100\n",
      "80/80 [==============================] - 0s 3ms/step - loss: 0.0087 - mse: 0.0087 - val_loss: 0.0157 - val_mse: 0.0157\n",
      "Epoch 71/100\n",
      "80/80 [==============================] - 0s 3ms/step - loss: 0.0087 - mse: 0.0087 - val_loss: 0.0157 - val_mse: 0.0157\n",
      "Epoch 72/100\n",
      "80/80 [==============================] - 0s 2ms/step - loss: 0.0087 - mse: 0.0087 - val_loss: 0.0155 - val_mse: 0.0155\n",
      "Epoch 73/100\n",
      "80/80 [==============================] - 0s 3ms/step - loss: 0.0087 - mse: 0.0087 - val_loss: 0.0156 - val_mse: 0.0156\n",
      "Epoch 74/100\n",
      "80/80 [==============================] - 0s 2ms/step - loss: 0.0087 - mse: 0.0087 - val_loss: 0.0155 - val_mse: 0.0155\n",
      "Epoch 75/100\n",
      "80/80 [==============================] - 0s 2ms/step - loss: 0.0087 - mse: 0.0087 - val_loss: 0.0155 - val_mse: 0.0155\n",
      "Epoch 76/100\n",
      "80/80 [==============================] - 0s 2ms/step - loss: 0.0087 - mse: 0.0087 - val_loss: 0.0155 - val_mse: 0.0155\n",
      "Epoch 77/100\n",
      "80/80 [==============================] - 0s 3ms/step - loss: 0.0087 - mse: 0.0087 - val_loss: 0.0156 - val_mse: 0.0156\n",
      "Epoch 78/100\n",
      "80/80 [==============================] - 0s 2ms/step - loss: 0.0086 - mse: 0.0086 - val_loss: 0.0157 - val_mse: 0.0157\n",
      "Epoch 79/100\n",
      "80/80 [==============================] - 0s 2ms/step - loss: 0.0086 - mse: 0.0086 - val_loss: 0.0155 - val_mse: 0.0155\n",
      "Epoch 80/100\n",
      "80/80 [==============================] - 0s 2ms/step - loss: 0.0086 - mse: 0.0086 - val_loss: 0.0154 - val_mse: 0.0154\n",
      "Epoch 81/100\n",
      "80/80 [==============================] - 0s 2ms/step - loss: 0.0086 - mse: 0.0086 - val_loss: 0.0156 - val_mse: 0.0156\n",
      "Epoch 82/100\n",
      "80/80 [==============================] - 0s 2ms/step - loss: 0.0086 - mse: 0.0086 - val_loss: 0.0157 - val_mse: 0.0157\n",
      "Epoch 83/100\n",
      "80/80 [==============================] - 0s 2ms/step - loss: 0.0086 - mse: 0.0086 - val_loss: 0.0155 - val_mse: 0.0155\n",
      "Epoch 84/100\n",
      "80/80 [==============================] - 0s 2ms/step - loss: 0.0086 - mse: 0.0086 - val_loss: 0.0157 - val_mse: 0.0157\n",
      "Epoch 85/100\n",
      "80/80 [==============================] - 0s 2ms/step - loss: 0.0086 - mse: 0.0086 - val_loss: 0.0155 - val_mse: 0.0155\n",
      "Epoch 86/100\n",
      "80/80 [==============================] - 0s 2ms/step - loss: 0.0086 - mse: 0.0086 - val_loss: 0.0155 - val_mse: 0.0155\n",
      "Epoch 87/100\n",
      "80/80 [==============================] - 0s 3ms/step - loss: 0.0086 - mse: 0.0086 - val_loss: 0.0154 - val_mse: 0.0154\n",
      "Epoch 88/100\n",
      "80/80 [==============================] - 0s 2ms/step - loss: 0.0086 - mse: 0.0086 - val_loss: 0.0155 - val_mse: 0.0155\n",
      "Epoch 89/100\n",
      "80/80 [==============================] - 0s 2ms/step - loss: 0.0086 - mse: 0.0086 - val_loss: 0.0154 - val_mse: 0.0154\n",
      "Epoch 90/100\n",
      "80/80 [==============================] - 0s 3ms/step - loss: 0.0086 - mse: 0.0086 - val_loss: 0.0154 - val_mse: 0.0154\n",
      "Epoch 91/100\n",
      "80/80 [==============================] - 0s 3ms/step - loss: 0.0086 - mse: 0.0086 - val_loss: 0.0155 - val_mse: 0.0155\n",
      "Epoch 92/100\n",
      "80/80 [==============================] - 0s 3ms/step - loss: 0.0085 - mse: 0.0085 - val_loss: 0.0155 - val_mse: 0.0155\n",
      "Epoch 93/100\n",
      "80/80 [==============================] - 0s 4ms/step - loss: 0.0085 - mse: 0.0085 - val_loss: 0.0155 - val_mse: 0.0155\n",
      "Epoch 94/100\n",
      "80/80 [==============================] - 0s 3ms/step - loss: 0.0085 - mse: 0.0085 - val_loss: 0.0155 - val_mse: 0.0155\n",
      "Epoch 95/100\n",
      "80/80 [==============================] - 0s 3ms/step - loss: 0.0085 - mse: 0.0085 - val_loss: 0.0155 - val_mse: 0.0155\n",
      "Epoch 96/100\n",
      "80/80 [==============================] - 0s 2ms/step - loss: 0.0085 - mse: 0.0085 - val_loss: 0.0155 - val_mse: 0.0155\n",
      "Epoch 97/100\n",
      "80/80 [==============================] - 0s 3ms/step - loss: 0.0085 - mse: 0.0085 - val_loss: 0.0155 - val_mse: 0.0155\n",
      "Epoch 98/100\n",
      "80/80 [==============================] - 0s 3ms/step - loss: 0.0085 - mse: 0.0085 - val_loss: 0.0155 - val_mse: 0.0155\n",
      "Epoch 99/100\n",
      "80/80 [==============================] - 0s 3ms/step - loss: 0.0085 - mse: 0.0085 - val_loss: 0.0155 - val_mse: 0.0155\n",
      "Epoch 100/100\n",
      "80/80 [==============================] - 0s 4ms/step - loss: 0.0085 - mse: 0.0085 - val_loss: 0.0156 - val_mse: 0.0156\n"
     ]
    },
    {
     "data": {
      "text/plain": [
       "<keras.src.callbacks.History at 0x19757ff29e0>"
      ]
     },
     "execution_count": 52,
     "metadata": {},
     "output_type": "execute_result"
    }
   ],
   "execution_count": 52
  },
  {
   "metadata": {
    "ExecuteTime": {
     "end_time": "2024-08-08T09:20:20.670048Z",
     "start_time": "2024-08-08T09:20:20.636371Z"
    }
   },
   "cell_type": "code",
   "source": [
    "encoded_x_test = encoder(X_test)\n",
    "encoded_x_train = encoder(X_train)"
   ],
   "id": "abb85bcfa83bae16",
   "outputs": [],
   "execution_count": 53
  },
  {
   "metadata": {
    "ExecuteTime": {
     "end_time": "2024-08-08T09:20:54.648831Z",
     "start_time": "2024-08-08T09:20:31.040870Z"
    }
   },
   "cell_type": "code",
   "source": [
    "classifier = keras.models.Sequential()\n",
    "classifier.add(keras.layers.Dense(5, activation = 'relu'))\n",
    "classifier.add(keras.layers.Dense(1, activation = 'sigmoid'))\n",
    "classifier.compile(optimizer = 'adam', loss = 'binary_crossentropy', metrics = 'accuracy')\n",
    "classifier.fit(encoded_x_train, y_train, validation_data = (encoded_x_test, y_test), epochs = 100, batch_size = 5 )"
   ],
   "id": "696d446c07ca8fad",
   "outputs": [
    {
     "name": "stdout",
     "output_type": "stream",
     "text": [
      "Epoch 1/100\n",
      "80/80 [==============================] - 1s 4ms/step - loss: 0.6700 - accuracy: 0.7085 - val_loss: 0.6851 - val_accuracy: 0.6082\n",
      "Epoch 2/100\n",
      "80/80 [==============================] - 0s 2ms/step - loss: 0.6603 - accuracy: 0.7111 - val_loss: 0.6789 - val_accuracy: 0.6082\n",
      "Epoch 3/100\n",
      "80/80 [==============================] - 0s 2ms/step - loss: 0.6514 - accuracy: 0.7136 - val_loss: 0.6728 - val_accuracy: 0.6082\n",
      "Epoch 4/100\n",
      "80/80 [==============================] - 0s 2ms/step - loss: 0.6430 - accuracy: 0.7136 - val_loss: 0.6668 - val_accuracy: 0.6082\n",
      "Epoch 5/100\n",
      "80/80 [==============================] - 0s 2ms/step - loss: 0.6341 - accuracy: 0.7211 - val_loss: 0.6606 - val_accuracy: 0.6199\n",
      "Epoch 6/100\n",
      "80/80 [==============================] - 0s 2ms/step - loss: 0.6251 - accuracy: 0.7312 - val_loss: 0.6528 - val_accuracy: 0.6316\n",
      "Epoch 7/100\n",
      "80/80 [==============================] - 0s 2ms/step - loss: 0.6156 - accuracy: 0.7462 - val_loss: 0.6450 - val_accuracy: 0.6374\n",
      "Epoch 8/100\n",
      "80/80 [==============================] - 0s 2ms/step - loss: 0.6059 - accuracy: 0.7538 - val_loss: 0.6359 - val_accuracy: 0.6374\n",
      "Epoch 9/100\n",
      "80/80 [==============================] - 0s 2ms/step - loss: 0.5956 - accuracy: 0.7839 - val_loss: 0.6277 - val_accuracy: 0.6374\n",
      "Epoch 10/100\n",
      "80/80 [==============================] - 0s 2ms/step - loss: 0.5852 - accuracy: 0.7990 - val_loss: 0.6178 - val_accuracy: 0.6374\n",
      "Epoch 11/100\n",
      "80/80 [==============================] - 0s 2ms/step - loss: 0.5740 - accuracy: 0.8065 - val_loss: 0.6069 - val_accuracy: 0.6433\n",
      "Epoch 12/100\n",
      "80/80 [==============================] - 0s 2ms/step - loss: 0.5625 - accuracy: 0.8241 - val_loss: 0.5956 - val_accuracy: 0.6550\n",
      "Epoch 13/100\n",
      "80/80 [==============================] - 0s 2ms/step - loss: 0.5511 - accuracy: 0.8266 - val_loss: 0.5848 - val_accuracy: 0.6667\n",
      "Epoch 14/100\n",
      "80/80 [==============================] - 0s 2ms/step - loss: 0.5391 - accuracy: 0.8291 - val_loss: 0.5735 - val_accuracy: 0.6901\n",
      "Epoch 15/100\n",
      "80/80 [==============================] - 0s 2ms/step - loss: 0.5268 - accuracy: 0.8367 - val_loss: 0.5611 - val_accuracy: 0.7135\n",
      "Epoch 16/100\n",
      "80/80 [==============================] - 0s 2ms/step - loss: 0.5152 - accuracy: 0.8392 - val_loss: 0.5524 - val_accuracy: 0.7193\n",
      "Epoch 17/100\n",
      "80/80 [==============================] - 0s 2ms/step - loss: 0.5027 - accuracy: 0.8392 - val_loss: 0.5416 - val_accuracy: 0.7310\n",
      "Epoch 18/100\n",
      "80/80 [==============================] - 0s 2ms/step - loss: 0.4910 - accuracy: 0.8417 - val_loss: 0.5286 - val_accuracy: 0.7427\n",
      "Epoch 19/100\n",
      "80/80 [==============================] - 0s 2ms/step - loss: 0.4790 - accuracy: 0.8492 - val_loss: 0.5170 - val_accuracy: 0.7544\n",
      "Epoch 20/100\n",
      "80/80 [==============================] - 0s 2ms/step - loss: 0.4674 - accuracy: 0.8543 - val_loss: 0.5064 - val_accuracy: 0.7719\n",
      "Epoch 21/100\n",
      "80/80 [==============================] - 0s 2ms/step - loss: 0.4562 - accuracy: 0.8543 - val_loss: 0.4930 - val_accuracy: 0.7953\n",
      "Epoch 22/100\n",
      "80/80 [==============================] - 0s 2ms/step - loss: 0.4452 - accuracy: 0.8568 - val_loss: 0.4824 - val_accuracy: 0.8012\n",
      "Epoch 23/100\n",
      "80/80 [==============================] - 0s 3ms/step - loss: 0.4341 - accuracy: 0.8668 - val_loss: 0.4709 - val_accuracy: 0.8012\n",
      "Epoch 24/100\n",
      "80/80 [==============================] - 0s 2ms/step - loss: 0.4236 - accuracy: 0.8693 - val_loss: 0.4627 - val_accuracy: 0.8070\n",
      "Epoch 25/100\n",
      "80/80 [==============================] - 0s 3ms/step - loss: 0.4132 - accuracy: 0.8693 - val_loss: 0.4518 - val_accuracy: 0.8129\n",
      "Epoch 26/100\n",
      "80/80 [==============================] - 0s 3ms/step - loss: 0.4033 - accuracy: 0.8693 - val_loss: 0.4440 - val_accuracy: 0.8129\n",
      "Epoch 27/100\n",
      "80/80 [==============================] - 0s 3ms/step - loss: 0.3938 - accuracy: 0.8769 - val_loss: 0.4312 - val_accuracy: 0.8187\n",
      "Epoch 28/100\n",
      "80/80 [==============================] - 0s 3ms/step - loss: 0.3843 - accuracy: 0.8744 - val_loss: 0.4245 - val_accuracy: 0.8187\n",
      "Epoch 29/100\n",
      "80/80 [==============================] - 0s 2ms/step - loss: 0.3757 - accuracy: 0.8794 - val_loss: 0.4133 - val_accuracy: 0.8187\n",
      "Epoch 30/100\n",
      "80/80 [==============================] - 0s 3ms/step - loss: 0.3672 - accuracy: 0.8769 - val_loss: 0.4063 - val_accuracy: 0.8187\n",
      "Epoch 31/100\n",
      "80/80 [==============================] - 0s 3ms/step - loss: 0.3586 - accuracy: 0.8894 - val_loss: 0.3949 - val_accuracy: 0.8304\n",
      "Epoch 32/100\n",
      "80/80 [==============================] - 0s 4ms/step - loss: 0.3505 - accuracy: 0.8920 - val_loss: 0.3886 - val_accuracy: 0.8246\n",
      "Epoch 33/100\n",
      "80/80 [==============================] - 0s 3ms/step - loss: 0.3427 - accuracy: 0.8970 - val_loss: 0.3798 - val_accuracy: 0.8363\n",
      "Epoch 34/100\n",
      "80/80 [==============================] - 0s 3ms/step - loss: 0.3354 - accuracy: 0.8995 - val_loss: 0.3733 - val_accuracy: 0.8363\n",
      "Epoch 35/100\n",
      "80/80 [==============================] - 0s 2ms/step - loss: 0.3285 - accuracy: 0.8995 - val_loss: 0.3657 - val_accuracy: 0.8363\n",
      "Epoch 36/100\n",
      "80/80 [==============================] - 0s 3ms/step - loss: 0.3216 - accuracy: 0.8995 - val_loss: 0.3565 - val_accuracy: 0.8480\n",
      "Epoch 37/100\n",
      "80/80 [==============================] - 0s 4ms/step - loss: 0.3150 - accuracy: 0.8995 - val_loss: 0.3519 - val_accuracy: 0.8480\n",
      "Epoch 38/100\n",
      "80/80 [==============================] - 0s 3ms/step - loss: 0.3087 - accuracy: 0.8995 - val_loss: 0.3465 - val_accuracy: 0.8480\n",
      "Epoch 39/100\n",
      "80/80 [==============================] - 0s 3ms/step - loss: 0.3028 - accuracy: 0.9020 - val_loss: 0.3357 - val_accuracy: 0.8538\n",
      "Epoch 40/100\n",
      "80/80 [==============================] - 0s 4ms/step - loss: 0.2966 - accuracy: 0.9020 - val_loss: 0.3340 - val_accuracy: 0.8538\n",
      "Epoch 41/100\n",
      "80/80 [==============================] - 0s 3ms/step - loss: 0.2915 - accuracy: 0.9020 - val_loss: 0.3280 - val_accuracy: 0.8538\n",
      "Epoch 42/100\n",
      "80/80 [==============================] - 0s 3ms/step - loss: 0.2865 - accuracy: 0.8995 - val_loss: 0.3216 - val_accuracy: 0.8596\n",
      "Epoch 43/100\n",
      "80/80 [==============================] - 0s 4ms/step - loss: 0.2807 - accuracy: 0.8995 - val_loss: 0.3163 - val_accuracy: 0.8596\n",
      "Epoch 44/100\n",
      "80/80 [==============================] - 0s 4ms/step - loss: 0.2761 - accuracy: 0.8970 - val_loss: 0.3118 - val_accuracy: 0.8596\n",
      "Epoch 45/100\n",
      "80/80 [==============================] - 0s 4ms/step - loss: 0.2715 - accuracy: 0.8970 - val_loss: 0.3056 - val_accuracy: 0.8772\n",
      "Epoch 46/100\n",
      "80/80 [==============================] - 0s 4ms/step - loss: 0.2669 - accuracy: 0.8995 - val_loss: 0.3026 - val_accuracy: 0.8772\n",
      "Epoch 47/100\n",
      "80/80 [==============================] - 0s 4ms/step - loss: 0.2625 - accuracy: 0.9020 - val_loss: 0.2947 - val_accuracy: 0.8772\n",
      "Epoch 48/100\n",
      "80/80 [==============================] - 0s 4ms/step - loss: 0.2583 - accuracy: 0.8970 - val_loss: 0.2927 - val_accuracy: 0.8772\n",
      "Epoch 49/100\n",
      "80/80 [==============================] - 0s 4ms/step - loss: 0.2538 - accuracy: 0.9045 - val_loss: 0.2849 - val_accuracy: 0.8772\n",
      "Epoch 50/100\n",
      "80/80 [==============================] - 0s 4ms/step - loss: 0.2498 - accuracy: 0.9045 - val_loss: 0.2823 - val_accuracy: 0.8772\n",
      "Epoch 51/100\n",
      "80/80 [==============================] - 0s 3ms/step - loss: 0.2465 - accuracy: 0.9045 - val_loss: 0.2802 - val_accuracy: 0.8772\n",
      "Epoch 52/100\n",
      "80/80 [==============================] - 0s 4ms/step - loss: 0.2425 - accuracy: 0.9045 - val_loss: 0.2745 - val_accuracy: 0.8772\n",
      "Epoch 53/100\n",
      "80/80 [==============================] - 0s 3ms/step - loss: 0.2391 - accuracy: 0.9045 - val_loss: 0.2722 - val_accuracy: 0.8772\n",
      "Epoch 54/100\n",
      "80/80 [==============================] - 0s 3ms/step - loss: 0.2359 - accuracy: 0.9095 - val_loss: 0.2654 - val_accuracy: 0.8772\n",
      "Epoch 55/100\n",
      "80/80 [==============================] - 0s 4ms/step - loss: 0.2326 - accuracy: 0.9121 - val_loss: 0.2659 - val_accuracy: 0.8772\n",
      "Epoch 56/100\n",
      "80/80 [==============================] - 0s 4ms/step - loss: 0.2295 - accuracy: 0.9070 - val_loss: 0.2622 - val_accuracy: 0.8772\n",
      "Epoch 57/100\n",
      "80/80 [==============================] - 0s 4ms/step - loss: 0.2266 - accuracy: 0.9146 - val_loss: 0.2582 - val_accuracy: 0.8772\n",
      "Epoch 58/100\n",
      "80/80 [==============================] - 0s 4ms/step - loss: 0.2236 - accuracy: 0.9146 - val_loss: 0.2550 - val_accuracy: 0.8772\n",
      "Epoch 59/100\n",
      "80/80 [==============================] - 0s 4ms/step - loss: 0.2213 - accuracy: 0.9095 - val_loss: 0.2540 - val_accuracy: 0.8772\n",
      "Epoch 60/100\n",
      "80/80 [==============================] - 0s 4ms/step - loss: 0.2185 - accuracy: 0.9121 - val_loss: 0.2490 - val_accuracy: 0.8830\n",
      "Epoch 61/100\n",
      "80/80 [==============================] - 0s 4ms/step - loss: 0.2161 - accuracy: 0.9121 - val_loss: 0.2454 - val_accuracy: 0.8830\n",
      "Epoch 62/100\n",
      "80/80 [==============================] - 0s 4ms/step - loss: 0.2137 - accuracy: 0.9095 - val_loss: 0.2457 - val_accuracy: 0.8830\n",
      "Epoch 63/100\n",
      "80/80 [==============================] - 0s 4ms/step - loss: 0.2111 - accuracy: 0.9121 - val_loss: 0.2450 - val_accuracy: 0.8830\n",
      "Epoch 64/100\n",
      "80/80 [==============================] - 0s 4ms/step - loss: 0.2091 - accuracy: 0.9171 - val_loss: 0.2387 - val_accuracy: 0.8830\n",
      "Epoch 65/100\n",
      "80/80 [==============================] - 0s 3ms/step - loss: 0.2069 - accuracy: 0.9121 - val_loss: 0.2354 - val_accuracy: 0.8889\n",
      "Epoch 66/100\n",
      "80/80 [==============================] - 0s 4ms/step - loss: 0.2047 - accuracy: 0.9171 - val_loss: 0.2335 - val_accuracy: 0.8889\n",
      "Epoch 67/100\n",
      "80/80 [==============================] - 0s 4ms/step - loss: 0.2024 - accuracy: 0.9171 - val_loss: 0.2325 - val_accuracy: 0.8889\n",
      "Epoch 68/100\n",
      "80/80 [==============================] - 0s 2ms/step - loss: 0.2006 - accuracy: 0.9171 - val_loss: 0.2305 - val_accuracy: 0.8889\n",
      "Epoch 69/100\n",
      "80/80 [==============================] - 0s 2ms/step - loss: 0.1986 - accuracy: 0.9196 - val_loss: 0.2309 - val_accuracy: 0.8889\n",
      "Epoch 70/100\n",
      "80/80 [==============================] - 0s 2ms/step - loss: 0.1969 - accuracy: 0.9171 - val_loss: 0.2269 - val_accuracy: 0.8947\n",
      "Epoch 71/100\n",
      "80/80 [==============================] - 0s 2ms/step - loss: 0.1958 - accuracy: 0.9171 - val_loss: 0.2259 - val_accuracy: 0.8947\n",
      "Epoch 72/100\n",
      "80/80 [==============================] - 0s 2ms/step - loss: 0.1941 - accuracy: 0.9221 - val_loss: 0.2210 - val_accuracy: 0.9006\n",
      "Epoch 73/100\n",
      "80/80 [==============================] - 0s 2ms/step - loss: 0.1924 - accuracy: 0.9171 - val_loss: 0.2226 - val_accuracy: 0.8947\n",
      "Epoch 74/100\n",
      "80/80 [==============================] - 0s 2ms/step - loss: 0.1912 - accuracy: 0.9171 - val_loss: 0.2170 - val_accuracy: 0.9006\n",
      "Epoch 75/100\n",
      "80/80 [==============================] - 0s 3ms/step - loss: 0.1890 - accuracy: 0.9171 - val_loss: 0.2169 - val_accuracy: 0.9006\n",
      "Epoch 76/100\n",
      "80/80 [==============================] - 0s 3ms/step - loss: 0.1876 - accuracy: 0.9171 - val_loss: 0.2173 - val_accuracy: 0.8947\n",
      "Epoch 77/100\n",
      "80/80 [==============================] - 0s 3ms/step - loss: 0.1865 - accuracy: 0.9171 - val_loss: 0.2150 - val_accuracy: 0.9006\n",
      "Epoch 78/100\n",
      "80/80 [==============================] - 0s 2ms/step - loss: 0.1849 - accuracy: 0.9171 - val_loss: 0.2137 - val_accuracy: 0.9006\n",
      "Epoch 79/100\n",
      "80/80 [==============================] - 0s 2ms/step - loss: 0.1842 - accuracy: 0.9146 - val_loss: 0.2109 - val_accuracy: 0.9006\n",
      "Epoch 80/100\n",
      "80/80 [==============================] - 0s 3ms/step - loss: 0.1833 - accuracy: 0.9171 - val_loss: 0.2102 - val_accuracy: 0.9006\n",
      "Epoch 81/100\n",
      "80/80 [==============================] - 0s 3ms/step - loss: 0.1813 - accuracy: 0.9171 - val_loss: 0.2096 - val_accuracy: 0.9006\n",
      "Epoch 82/100\n",
      "80/80 [==============================] - 0s 3ms/step - loss: 0.1810 - accuracy: 0.9146 - val_loss: 0.2065 - val_accuracy: 0.9064\n",
      "Epoch 83/100\n",
      "80/80 [==============================] - 0s 3ms/step - loss: 0.1791 - accuracy: 0.9171 - val_loss: 0.2055 - val_accuracy: 0.9064\n",
      "Epoch 84/100\n",
      "80/80 [==============================] - 0s 2ms/step - loss: 0.1781 - accuracy: 0.9271 - val_loss: 0.2025 - val_accuracy: 0.9064\n",
      "Epoch 85/100\n",
      "80/80 [==============================] - 0s 2ms/step - loss: 0.1767 - accuracy: 0.9271 - val_loss: 0.2065 - val_accuracy: 0.9064\n",
      "Epoch 86/100\n",
      "80/80 [==============================] - 0s 2ms/step - loss: 0.1767 - accuracy: 0.9171 - val_loss: 0.2048 - val_accuracy: 0.9064\n",
      "Epoch 87/100\n",
      "80/80 [==============================] - 0s 3ms/step - loss: 0.1752 - accuracy: 0.9271 - val_loss: 0.2024 - val_accuracy: 0.9064\n",
      "Epoch 88/100\n",
      "80/80 [==============================] - 0s 2ms/step - loss: 0.1750 - accuracy: 0.9246 - val_loss: 0.2002 - val_accuracy: 0.9064\n",
      "Epoch 89/100\n",
      "80/80 [==============================] - 0s 2ms/step - loss: 0.1733 - accuracy: 0.9246 - val_loss: 0.2002 - val_accuracy: 0.9064\n",
      "Epoch 90/100\n",
      "80/80 [==============================] - 0s 2ms/step - loss: 0.1726 - accuracy: 0.9271 - val_loss: 0.2009 - val_accuracy: 0.9064\n",
      "Epoch 91/100\n",
      "80/80 [==============================] - 0s 2ms/step - loss: 0.1716 - accuracy: 0.9246 - val_loss: 0.2013 - val_accuracy: 0.9064\n",
      "Epoch 92/100\n",
      "80/80 [==============================] - 0s 2ms/step - loss: 0.1711 - accuracy: 0.9246 - val_loss: 0.1995 - val_accuracy: 0.9064\n",
      "Epoch 93/100\n",
      "80/80 [==============================] - 0s 3ms/step - loss: 0.1703 - accuracy: 0.9246 - val_loss: 0.1971 - val_accuracy: 0.9064\n",
      "Epoch 94/100\n",
      "80/80 [==============================] - 0s 3ms/step - loss: 0.1699 - accuracy: 0.9296 - val_loss: 0.1946 - val_accuracy: 0.9064\n",
      "Epoch 95/100\n",
      "80/80 [==============================] - 0s 2ms/step - loss: 0.1696 - accuracy: 0.9271 - val_loss: 0.2008 - val_accuracy: 0.9064\n",
      "Epoch 96/100\n",
      "80/80 [==============================] - 0s 3ms/step - loss: 0.1682 - accuracy: 0.9271 - val_loss: 0.1942 - val_accuracy: 0.9064\n",
      "Epoch 97/100\n",
      "80/80 [==============================] - 0s 2ms/step - loss: 0.1672 - accuracy: 0.9271 - val_loss: 0.1952 - val_accuracy: 0.9064\n",
      "Epoch 98/100\n",
      "80/80 [==============================] - 0s 3ms/step - loss: 0.1669 - accuracy: 0.9246 - val_loss: 0.1947 - val_accuracy: 0.9064\n",
      "Epoch 99/100\n",
      "80/80 [==============================] - 0s 2ms/step - loss: 0.1663 - accuracy: 0.9271 - val_loss: 0.1939 - val_accuracy: 0.9064\n",
      "Epoch 100/100\n",
      "80/80 [==============================] - 0s 2ms/step - loss: 0.1657 - accuracy: 0.9271 - val_loss: 0.1944 - val_accuracy: 0.9064\n"
     ]
    },
    {
     "data": {
      "text/plain": [
       "<keras.src.callbacks.History at 0x19758112e30>"
      ]
     },
     "execution_count": 54,
     "metadata": {},
     "output_type": "execute_result"
    }
   ],
   "execution_count": 54
  },
  {
   "metadata": {
    "ExecuteTime": {
     "end_time": "2024-08-08T09:20:54.790471Z",
     "start_time": "2024-08-08T09:20:54.650829Z"
    }
   },
   "cell_type": "code",
   "source": [
    "y_pre = classifier.predict(encoded_x_test)\n",
    "y_pre[y_pre >= 0.5] = 1\n",
    "y_pre[y_pre < 0.5] = 0\n",
    "print(confusion_matrix(y_pre, y_test))\n",
    "print(classification_report(y_pre, y_test))"
   ],
   "id": "8cb8f9a581e92f11",
   "outputs": [
    {
     "name": "stdout",
     "output_type": "stream",
     "text": [
      "6/6 [==============================] - 0s 2ms/step\n",
      "[[ 52   0]\n",
      " [ 16 103]]\n",
      "              precision    recall  f1-score   support\n",
      "\n",
      "         0.0       0.76      1.00      0.87        52\n",
      "         1.0       1.00      0.87      0.93       119\n",
      "\n",
      "    accuracy                           0.91       171\n",
      "   macro avg       0.88      0.93      0.90       171\n",
      "weighted avg       0.93      0.91      0.91       171\n",
      "\n"
     ]
    }
   ],
   "execution_count": 55
  },
  {
   "metadata": {},
   "cell_type": "code",
   "outputs": [],
   "execution_count": null,
   "source": "",
   "id": "5a838f5d624b2936"
  }
 ],
 "metadata": {
  "kernelspec": {
   "display_name": "Python 3",
   "language": "python",
   "name": "python3"
  },
  "language_info": {
   "codemirror_mode": {
    "name": "ipython",
    "version": 2
   },
   "file_extension": ".py",
   "mimetype": "text/x-python",
   "name": "python",
   "nbconvert_exporter": "python",
   "pygments_lexer": "ipython2",
   "version": "2.7.6"
  }
 },
 "nbformat": 4,
 "nbformat_minor": 5
}
