{
 "cells": [
  {
   "cell_type": "code",
   "id": "initial_id",
   "metadata": {
    "collapsed": true,
    "ExecuteTime": {
     "end_time": "2024-08-09T10:13:58.844736Z",
     "start_time": "2024-08-09T10:13:48.328278Z"
    }
   },
   "source": [
    "import keras\n",
    "from keras.datasets import mnist\n",
    "import tensorflow as tf\n",
    "import matplotlib.pyplot as plt\n",
    "import numpy as np\n",
    "import pandas as pd"
   ],
   "outputs": [
    {
     "name": "stdout",
     "output_type": "stream",
     "text": [
      "WARNING:tensorflow:From C:\\Users\\Snapp_Kitchen\\anaconda3\\lib\\site-packages\\keras\\src\\losses.py:2976: The name tf.losses.sparse_softmax_cross_entropy is deprecated. Please use tf.compat.v1.losses.sparse_softmax_cross_entropy instead.\n",
      "\n"
     ]
    }
   ],
   "execution_count": 1
  },
  {
   "metadata": {},
   "cell_type": "markdown",
   "source": "## Mnist data loading",
   "id": "5fad3de40e6233a3"
  },
  {
   "metadata": {
    "ExecuteTime": {
     "end_time": "2024-08-09T10:18:21.982162Z",
     "start_time": "2024-08-09T10:18:19.371122Z"
    }
   },
   "cell_type": "code",
   "source": [
    "(X_train, _), (X_test, _) = mnist.load_data()\n",
    "X_train, X_test = X_train.astype('float32') / 255, X_test.astype('float32') / 255\n",
    "X_train = X_train.reshape((len(X_train), np.prod(X_train.shape[1:])))\n",
    "X_test = X_test.reshape((len(X_test), np.prod(X_test.shape[1:])))\n",
    "\n",
    "X_train_noisy = X_train + np.random.randn(len(X_train), X_train.shape[1])\n",
    "X_test_noisy = X_test + np.random.randn(len(X_test), X_train.shape[1])"
   ],
   "id": "6300ae4dc230c282",
   "outputs": [],
   "execution_count": 3
  },
  {
   "metadata": {},
   "cell_type": "markdown",
   "source": "## Build a denoising autoencoder",
   "id": "d3f4f59b52c5024b"
  },
  {
   "metadata": {
    "ExecuteTime": {
     "end_time": "2024-08-09T10:28:08.747117Z",
     "start_time": "2024-08-09T10:26:26.015324Z"
    }
   },
   "cell_type": "code",
   "source": [
    "auto_inputs = keras.Input((784,))\n",
    "encoder = keras.layers.Dense(784, activation='relu')(auto_inputs)\n",
    "decoder = keras.layers.Dense(784, activation='sigmoid')(encoder)\n",
    "\n",
    "autoencoder = keras.Model(auto_inputs, decoder)\n",
    "decoder_layer = autoencoder.layers[-1]\n",
    "encoder_out = keras.Input((784,))\n",
    "encoder = keras.Model(auto_inputs, encoder)\n",
    "decoder = keras.Model(encoder_out, decoder_layer(encoder_out))\n",
    "autoencoder.compile(optimizer='adam', loss='binary_crossentropy', metrics='binary_crossentropy')\n",
    "autoencoder.fit(X_train_noisy, X_train, epochs=20, batch_size=256, validation_data=(X_test_noisy, X_test))"
   ],
   "id": "6beb5baef36c9498",
   "outputs": [
    {
     "name": "stdout",
     "output_type": "stream",
     "text": [
      "WARNING:tensorflow:From C:\\Users\\Snapp_Kitchen\\anaconda3\\lib\\site-packages\\keras\\src\\backend.py:1398: The name tf.executing_eagerly_outside_functions is deprecated. Please use tf.compat.v1.executing_eagerly_outside_functions instead.\n",
      "\n",
      "WARNING:tensorflow:From C:\\Users\\Snapp_Kitchen\\anaconda3\\lib\\site-packages\\keras\\src\\optimizers\\__init__.py:309: The name tf.train.Optimizer is deprecated. Please use tf.compat.v1.train.Optimizer instead.\n",
      "\n",
      "Epoch 1/20\n",
      "WARNING:tensorflow:From C:\\Users\\Snapp_Kitchen\\anaconda3\\lib\\site-packages\\keras\\src\\utils\\tf_utils.py:492: The name tf.ragged.RaggedTensorValue is deprecated. Please use tf.compat.v1.ragged.RaggedTensorValue instead.\n",
      "\n",
      "WARNING:tensorflow:From C:\\Users\\Snapp_Kitchen\\anaconda3\\lib\\site-packages\\keras\\src\\engine\\base_layer_utils.py:384: The name tf.executing_eagerly_outside_functions is deprecated. Please use tf.compat.v1.executing_eagerly_outside_functions instead.\n",
      "\n",
      "235/235 [==============================] - 6s 20ms/step - loss: 0.1994 - binary_crossentropy: 0.1994 - val_loss: 0.1600 - val_binary_crossentropy: 0.1600\n",
      "Epoch 2/20\n",
      "235/235 [==============================] - 5s 20ms/step - loss: 0.1535 - binary_crossentropy: 0.1535 - val_loss: 0.1520 - val_binary_crossentropy: 0.1520\n",
      "Epoch 3/20\n",
      "235/235 [==============================] - 5s 20ms/step - loss: 0.1454 - binary_crossentropy: 0.1454 - val_loss: 0.1494 - val_binary_crossentropy: 0.1494\n",
      "Epoch 4/20\n",
      "235/235 [==============================] - 5s 20ms/step - loss: 0.1405 - binary_crossentropy: 0.1405 - val_loss: 0.1483 - val_binary_crossentropy: 0.1483\n",
      "Epoch 5/20\n",
      "235/235 [==============================] - 5s 20ms/step - loss: 0.1369 - binary_crossentropy: 0.1369 - val_loss: 0.1484 - val_binary_crossentropy: 0.1484\n",
      "Epoch 6/20\n",
      "235/235 [==============================] - 5s 19ms/step - loss: 0.1340 - binary_crossentropy: 0.1340 - val_loss: 0.1488 - val_binary_crossentropy: 0.1488\n",
      "Epoch 7/20\n",
      "235/235 [==============================] - 5s 19ms/step - loss: 0.1316 - binary_crossentropy: 0.1316 - val_loss: 0.1496 - val_binary_crossentropy: 0.1496\n",
      "Epoch 8/20\n",
      "235/235 [==============================] - 5s 19ms/step - loss: 0.1295 - binary_crossentropy: 0.1295 - val_loss: 0.1506 - val_binary_crossentropy: 0.1506\n",
      "Epoch 9/20\n",
      "235/235 [==============================] - 5s 20ms/step - loss: 0.1276 - binary_crossentropy: 0.1276 - val_loss: 0.1520 - val_binary_crossentropy: 0.1520\n",
      "Epoch 10/20\n",
      "235/235 [==============================] - 5s 20ms/step - loss: 0.1259 - binary_crossentropy: 0.1259 - val_loss: 0.1535 - val_binary_crossentropy: 0.1535\n",
      "Epoch 11/20\n",
      "235/235 [==============================] - 5s 21ms/step - loss: 0.1244 - binary_crossentropy: 0.1244 - val_loss: 0.1548 - val_binary_crossentropy: 0.1548\n",
      "Epoch 12/20\n",
      "235/235 [==============================] - 5s 22ms/step - loss: 0.1230 - binary_crossentropy: 0.1230 - val_loss: 0.1564 - val_binary_crossentropy: 0.1564\n",
      "Epoch 13/20\n",
      "235/235 [==============================] - 5s 20ms/step - loss: 0.1218 - binary_crossentropy: 0.1218 - val_loss: 0.1578 - val_binary_crossentropy: 0.1578\n",
      "Epoch 14/20\n",
      "235/235 [==============================] - 5s 20ms/step - loss: 0.1206 - binary_crossentropy: 0.1206 - val_loss: 0.1594 - val_binary_crossentropy: 0.1594\n",
      "Epoch 15/20\n",
      "235/235 [==============================] - 5s 20ms/step - loss: 0.1196 - binary_crossentropy: 0.1196 - val_loss: 0.1612 - val_binary_crossentropy: 0.1612\n",
      "Epoch 16/20\n",
      "235/235 [==============================] - 5s 21ms/step - loss: 0.1186 - binary_crossentropy: 0.1186 - val_loss: 0.1626 - val_binary_crossentropy: 0.1626\n",
      "Epoch 17/20\n",
      "235/235 [==============================] - 6s 25ms/step - loss: 0.1178 - binary_crossentropy: 0.1178 - val_loss: 0.1642 - val_binary_crossentropy: 0.1642\n",
      "Epoch 18/20\n",
      "235/235 [==============================] - 9s 39ms/step - loss: 0.1170 - binary_crossentropy: 0.1170 - val_loss: 0.1654 - val_binary_crossentropy: 0.1654\n",
      "Epoch 19/20\n",
      "235/235 [==============================] - 5s 22ms/step - loss: 0.1163 - binary_crossentropy: 0.1163 - val_loss: 0.1671 - val_binary_crossentropy: 0.1671\n",
      "Epoch 20/20\n",
      "235/235 [==============================] - 5s 21ms/step - loss: 0.1156 - binary_crossentropy: 0.1156 - val_loss: 0.1685 - val_binary_crossentropy: 0.1685\n"
     ]
    },
    {
     "data": {
      "text/plain": [
       "<keras.src.callbacks.History at 0x26b67df57b0>"
      ]
     },
     "execution_count": 4,
     "metadata": {},
     "output_type": "execute_result"
    }
   ],
   "execution_count": 4
  },
  {
   "metadata": {
    "ExecuteTime": {
     "end_time": "2024-08-09T10:33:22.355795Z",
     "start_time": "2024-08-09T10:33:19.950916Z"
    }
   },
   "cell_type": "code",
   "source": [
    "encoded_imgs = encoder.predict(X_test_noisy)\n",
    "decoded_imgs = decoder.predict(encoded_imgs)\n",
    "\n",
    "plt.subplot(211)\n",
    "plt.imshow(decoded_imgs[5].reshape(28, 28))\n",
    "plt.subplot(212)\n",
    "plt.imshow(encoded_imgs[5].reshape(28, 28))\n",
    "plt.show()"
   ],
   "id": "a0073ae0bb11e3dc",
   "outputs": [
    {
     "name": "stdout",
     "output_type": "stream",
     "text": [
      "313/313 [==============================] - 1s 2ms/step\n",
      "313/313 [==============================] - 1s 2ms/step\n"
     ]
    },
    {
     "data": {
      "text/plain": [
       "<Figure size 640x480 with 2 Axes>"
      ],
      "image/png": "[encoded data removed]"
     },
     "metadata": {},
     "output_type": "display_data"
    }
   ],
   "execution_count": 6
  },
  {
   "metadata": {},
   "cell_type": "code",
   "outputs": [],
   "execution_count": null,
   "source": "",
   "id": "ae10a4c08023a253"
  }
 ],
 "metadata": {
  "kernelspec": {
   "display_name": "Python 3",
   "language": "python",
   "name": "python3"
  },
  "language_info": {
   "codemirror_mode": {
    "name": "ipython",
    "version": 2
   },
   "file_extension": ".py",
   "mimetype": "text/x-python",
   "name": "python",
   "nbconvert_exporter": "python",
   "pygments_lexer": "ipython2",
   "version": "2.7.6"
  }
 },
 "nbformat": 4,
 "nbformat_minor": 5
}
